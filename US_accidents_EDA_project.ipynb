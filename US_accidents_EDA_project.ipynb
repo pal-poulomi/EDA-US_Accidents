{
  "cells": [
    {
      "cell_type": "code",
      "execution_count": null,
      "id": "757b394d",
      "metadata": {
        "id": "757b394d"
      },
      "outputs": [],
      "source": [
        "#import necessary libraries\n",
        "import pandas as pd\n",
        "import numpy as np\n",
        "import seaborn as sns\n",
        "sns.set_style('darkgrid')\n",
        "import folium\n",
        "\n",
        "#displaying the maximum number of rows and columns\n",
        "pd.set_option('display.max_rows',1000)\n",
        "pd.set_option('display.max_columns', None)"
      ]
    },
    {
      "cell_type": "code",
      "execution_count": null,
      "id": "a96de473",
      "metadata": {
        "id": "a96de473"
      },
      "outputs": [],
      "source": [
        "#reading the dataset as a pandas dataframe\n",
        "filename = \"US_Accidents_Dec21_updated.csv\"\n",
        "df = pd.read_csv(filename)"
      ]
    },
    {
      "cell_type": "code",
      "execution_count": null,
      "id": "06458492",
      "metadata": {
        "id": "06458492",
        "outputId": "29696d9d-e4a3-485e-de3b-92e123dcb7d3"
      },
      "outputs": [
        {
          "data": {
            "text/html": [
              "<div>\n",
              "<style scoped>\n",
              "    .dataframe tbody tr th:only-of-type {\n",
              "        vertical-align: middle;\n",
              "    }\n",
              "\n",
              "    .dataframe tbody tr th {\n",
              "        vertical-align: top;\n",
              "    }\n",
              "\n",
              "    .dataframe thead th {\n",
              "        text-align: right;\n",
              "    }\n",
              "</style>\n",
              "<table border=\"1\" class=\"dataframe\">\n",
              "  <thead>\n",
              "    <tr style=\"text-align: right;\">\n",
              "      <th></th>\n",
              "      <th>ID</th>\n",
              "      <th>Severity</th>\n",
              "      <th>Start_Time</th>\n",
              "      <th>End_Time</th>\n",
              "      <th>Start_Lat</th>\n",
              "      <th>Start_Lng</th>\n",
              "      <th>End_Lat</th>\n",
              "      <th>End_Lng</th>\n",
              "      <th>Distance(mi)</th>\n",
              "      <th>Description</th>\n",
              "      <th>Number</th>\n",
              "      <th>Street</th>\n",
              "      <th>Side</th>\n",
              "      <th>City</th>\n",
              "      <th>County</th>\n",
              "      <th>State</th>\n",
              "      <th>Zipcode</th>\n",
              "      <th>Country</th>\n",
              "      <th>Timezone</th>\n",
              "      <th>Airport_Code</th>\n",
              "      <th>Weather_Timestamp</th>\n",
              "      <th>Temperature(F)</th>\n",
              "      <th>Wind_Chill(F)</th>\n",
              "      <th>Humidity(%)</th>\n",
              "      <th>Pressure(in)</th>\n",
              "      <th>Visibility(mi)</th>\n",
              "      <th>Wind_Direction</th>\n",
              "      <th>Wind_Speed(mph)</th>\n",
              "      <th>Precipitation(in)</th>\n",
              "      <th>Weather_Condition</th>\n",
              "      <th>Amenity</th>\n",
              "      <th>Bump</th>\n",
              "      <th>Crossing</th>\n",
              "      <th>Give_Way</th>\n",
              "      <th>Junction</th>\n",
              "      <th>No_Exit</th>\n",
              "      <th>Railway</th>\n",
              "      <th>Roundabout</th>\n",
              "      <th>Station</th>\n",
              "      <th>Stop</th>\n",
              "      <th>Traffic_Calming</th>\n",
              "      <th>Traffic_Signal</th>\n",
              "      <th>Turning_Loop</th>\n",
              "      <th>Sunrise_Sunset</th>\n",
              "      <th>Civil_Twilight</th>\n",
              "      <th>Nautical_Twilight</th>\n",
              "      <th>Astronomical_Twilight</th>\n",
              "    </tr>\n",
              "  </thead>\n",
              "  <tbody>\n",
              "    <tr>\n",
              "      <th>0</th>\n",
              "      <td>A-1</td>\n",
              "      <td>3</td>\n",
              "      <td>2016-02-08 00:37:08</td>\n",
              "      <td>2016-02-08 06:37:08</td>\n",
              "      <td>40.108910</td>\n",
              "      <td>-83.092860</td>\n",
              "      <td>40.112060</td>\n",
              "      <td>-83.031870</td>\n",
              "      <td>3.230</td>\n",
              "      <td>Between Sawmill Rd/Exit 20 and OH-315/Olentang...</td>\n",
              "      <td>NaN</td>\n",
              "      <td>Outerbelt E</td>\n",
              "      <td>R</td>\n",
              "      <td>Dublin</td>\n",
              "      <td>Franklin</td>\n",
              "      <td>OH</td>\n",
              "      <td>43017</td>\n",
              "      <td>US</td>\n",
              "      <td>US/Eastern</td>\n",
              "      <td>KOSU</td>\n",
              "      <td>2016-02-08 00:53:00</td>\n",
              "      <td>42.1</td>\n",
              "      <td>36.1</td>\n",
              "      <td>58.0</td>\n",
              "      <td>29.76</td>\n",
              "      <td>10.0</td>\n",
              "      <td>SW</td>\n",
              "      <td>10.4</td>\n",
              "      <td>0.00</td>\n",
              "      <td>Light Rain</td>\n",
              "      <td>False</td>\n",
              "      <td>False</td>\n",
              "      <td>False</td>\n",
              "      <td>False</td>\n",
              "      <td>False</td>\n",
              "      <td>False</td>\n",
              "      <td>False</td>\n",
              "      <td>False</td>\n",
              "      <td>False</td>\n",
              "      <td>False</td>\n",
              "      <td>False</td>\n",
              "      <td>False</td>\n",
              "      <td>False</td>\n",
              "      <td>Night</td>\n",
              "      <td>Night</td>\n",
              "      <td>Night</td>\n",
              "      <td>Night</td>\n",
              "    </tr>\n",
              "    <tr>\n",
              "      <th>1</th>\n",
              "      <td>A-2</td>\n",
              "      <td>2</td>\n",
              "      <td>2016-02-08 05:56:20</td>\n",
              "      <td>2016-02-08 11:56:20</td>\n",
              "      <td>39.865420</td>\n",
              "      <td>-84.062800</td>\n",
              "      <td>39.865010</td>\n",
              "      <td>-84.048730</td>\n",
              "      <td>0.747</td>\n",
              "      <td>At OH-4/OH-235/Exit 41 - Accident.</td>\n",
              "      <td>NaN</td>\n",
              "      <td>I-70 E</td>\n",
              "      <td>R</td>\n",
              "      <td>Dayton</td>\n",
              "      <td>Montgomery</td>\n",
              "      <td>OH</td>\n",
              "      <td>45424</td>\n",
              "      <td>US</td>\n",
              "      <td>US/Eastern</td>\n",
              "      <td>KFFO</td>\n",
              "      <td>2016-02-08 05:58:00</td>\n",
              "      <td>36.9</td>\n",
              "      <td>NaN</td>\n",
              "      <td>91.0</td>\n",
              "      <td>29.68</td>\n",
              "      <td>10.0</td>\n",
              "      <td>Calm</td>\n",
              "      <td>NaN</td>\n",
              "      <td>0.02</td>\n",
              "      <td>Light Rain</td>\n",
              "      <td>False</td>\n",
              "      <td>False</td>\n",
              "      <td>False</td>\n",
              "      <td>False</td>\n",
              "      <td>False</td>\n",
              "      <td>False</td>\n",
              "      <td>False</td>\n",
              "      <td>False</td>\n",
              "      <td>False</td>\n",
              "      <td>False</td>\n",
              "      <td>False</td>\n",
              "      <td>False</td>\n",
              "      <td>False</td>\n",
              "      <td>Night</td>\n",
              "      <td>Night</td>\n",
              "      <td>Night</td>\n",
              "      <td>Night</td>\n",
              "    </tr>\n",
              "    <tr>\n",
              "      <th>2</th>\n",
              "      <td>A-3</td>\n",
              "      <td>2</td>\n",
              "      <td>2016-02-08 06:15:39</td>\n",
              "      <td>2016-02-08 12:15:39</td>\n",
              "      <td>39.102660</td>\n",
              "      <td>-84.524680</td>\n",
              "      <td>39.102090</td>\n",
              "      <td>-84.523960</td>\n",
              "      <td>0.055</td>\n",
              "      <td>At I-71/US-50/Exit 1 - Accident.</td>\n",
              "      <td>NaN</td>\n",
              "      <td>I-75 S</td>\n",
              "      <td>R</td>\n",
              "      <td>Cincinnati</td>\n",
              "      <td>Hamilton</td>\n",
              "      <td>OH</td>\n",
              "      <td>45203</td>\n",
              "      <td>US</td>\n",
              "      <td>US/Eastern</td>\n",
              "      <td>KLUK</td>\n",
              "      <td>2016-02-08 05:53:00</td>\n",
              "      <td>36.0</td>\n",
              "      <td>NaN</td>\n",
              "      <td>97.0</td>\n",
              "      <td>29.70</td>\n",
              "      <td>10.0</td>\n",
              "      <td>Calm</td>\n",
              "      <td>NaN</td>\n",
              "      <td>0.02</td>\n",
              "      <td>Overcast</td>\n",
              "      <td>False</td>\n",
              "      <td>False</td>\n",
              "      <td>False</td>\n",
              "      <td>False</td>\n",
              "      <td>True</td>\n",
              "      <td>False</td>\n",
              "      <td>False</td>\n",
              "      <td>False</td>\n",
              "      <td>False</td>\n",
              "      <td>False</td>\n",
              "      <td>False</td>\n",
              "      <td>False</td>\n",
              "      <td>False</td>\n",
              "      <td>Night</td>\n",
              "      <td>Night</td>\n",
              "      <td>Night</td>\n",
              "      <td>Day</td>\n",
              "    </tr>\n",
              "    <tr>\n",
              "      <th>3</th>\n",
              "      <td>A-4</td>\n",
              "      <td>2</td>\n",
              "      <td>2016-02-08 06:51:45</td>\n",
              "      <td>2016-02-08 12:51:45</td>\n",
              "      <td>41.062130</td>\n",
              "      <td>-81.537840</td>\n",
              "      <td>41.062170</td>\n",
              "      <td>-81.535470</td>\n",
              "      <td>0.123</td>\n",
              "      <td>At Dart Ave/Exit 21 - Accident.</td>\n",
              "      <td>NaN</td>\n",
              "      <td>I-77 N</td>\n",
              "      <td>R</td>\n",
              "      <td>Akron</td>\n",
              "      <td>Summit</td>\n",
              "      <td>OH</td>\n",
              "      <td>44311</td>\n",
              "      <td>US</td>\n",
              "      <td>US/Eastern</td>\n",
              "      <td>KAKR</td>\n",
              "      <td>2016-02-08 06:54:00</td>\n",
              "      <td>39.0</td>\n",
              "      <td>NaN</td>\n",
              "      <td>55.0</td>\n",
              "      <td>29.65</td>\n",
              "      <td>10.0</td>\n",
              "      <td>Calm</td>\n",
              "      <td>NaN</td>\n",
              "      <td>NaN</td>\n",
              "      <td>Overcast</td>\n",
              "      <td>False</td>\n",
              "      <td>False</td>\n",
              "      <td>False</td>\n",
              "      <td>False</td>\n",
              "      <td>False</td>\n",
              "      <td>False</td>\n",
              "      <td>False</td>\n",
              "      <td>False</td>\n",
              "      <td>False</td>\n",
              "      <td>False</td>\n",
              "      <td>False</td>\n",
              "      <td>False</td>\n",
              "      <td>False</td>\n",
              "      <td>Night</td>\n",
              "      <td>Night</td>\n",
              "      <td>Day</td>\n",
              "      <td>Day</td>\n",
              "    </tr>\n",
              "    <tr>\n",
              "      <th>4</th>\n",
              "      <td>A-5</td>\n",
              "      <td>3</td>\n",
              "      <td>2016-02-08 07:53:43</td>\n",
              "      <td>2016-02-08 13:53:43</td>\n",
              "      <td>39.172393</td>\n",
              "      <td>-84.492792</td>\n",
              "      <td>39.170476</td>\n",
              "      <td>-84.501798</td>\n",
              "      <td>0.500</td>\n",
              "      <td>At Mitchell Ave/Exit 6 - Accident.</td>\n",
              "      <td>NaN</td>\n",
              "      <td>I-75 S</td>\n",
              "      <td>R</td>\n",
              "      <td>Cincinnati</td>\n",
              "      <td>Hamilton</td>\n",
              "      <td>OH</td>\n",
              "      <td>45217</td>\n",
              "      <td>US</td>\n",
              "      <td>US/Eastern</td>\n",
              "      <td>KLUK</td>\n",
              "      <td>2016-02-08 07:53:00</td>\n",
              "      <td>37.0</td>\n",
              "      <td>29.8</td>\n",
              "      <td>93.0</td>\n",
              "      <td>29.69</td>\n",
              "      <td>10.0</td>\n",
              "      <td>WSW</td>\n",
              "      <td>10.4</td>\n",
              "      <td>0.01</td>\n",
              "      <td>Light Rain</td>\n",
              "      <td>False</td>\n",
              "      <td>False</td>\n",
              "      <td>False</td>\n",
              "      <td>False</td>\n",
              "      <td>False</td>\n",
              "      <td>False</td>\n",
              "      <td>False</td>\n",
              "      <td>False</td>\n",
              "      <td>False</td>\n",
              "      <td>False</td>\n",
              "      <td>False</td>\n",
              "      <td>False</td>\n",
              "      <td>False</td>\n",
              "      <td>Day</td>\n",
              "      <td>Day</td>\n",
              "      <td>Day</td>\n",
              "      <td>Day</td>\n",
              "    </tr>\n",
              "  </tbody>\n",
              "</table>\n",
              "</div>"
            ],
            "text/plain": [
              "    ID  Severity           Start_Time             End_Time  Start_Lat  \\\n",
              "0  A-1         3  2016-02-08 00:37:08  2016-02-08 06:37:08  40.108910   \n",
              "1  A-2         2  2016-02-08 05:56:20  2016-02-08 11:56:20  39.865420   \n",
              "2  A-3         2  2016-02-08 06:15:39  2016-02-08 12:15:39  39.102660   \n",
              "3  A-4         2  2016-02-08 06:51:45  2016-02-08 12:51:45  41.062130   \n",
              "4  A-5         3  2016-02-08 07:53:43  2016-02-08 13:53:43  39.172393   \n",
              "\n",
              "   Start_Lng    End_Lat    End_Lng  Distance(mi)  \\\n",
              "0 -83.092860  40.112060 -83.031870         3.230   \n",
              "1 -84.062800  39.865010 -84.048730         0.747   \n",
              "2 -84.524680  39.102090 -84.523960         0.055   \n",
              "3 -81.537840  41.062170 -81.535470         0.123   \n",
              "4 -84.492792  39.170476 -84.501798         0.500   \n",
              "\n",
              "                                         Description  Number       Street  \\\n",
              "0  Between Sawmill Rd/Exit 20 and OH-315/Olentang...     NaN  Outerbelt E   \n",
              "1                 At OH-4/OH-235/Exit 41 - Accident.     NaN       I-70 E   \n",
              "2                   At I-71/US-50/Exit 1 - Accident.     NaN       I-75 S   \n",
              "3                    At Dart Ave/Exit 21 - Accident.     NaN       I-77 N   \n",
              "4                 At Mitchell Ave/Exit 6 - Accident.     NaN       I-75 S   \n",
              "\n",
              "  Side        City      County State Zipcode Country    Timezone Airport_Code  \\\n",
              "0    R      Dublin    Franklin    OH   43017      US  US/Eastern         KOSU   \n",
              "1    R      Dayton  Montgomery    OH   45424      US  US/Eastern         KFFO   \n",
              "2    R  Cincinnati    Hamilton    OH   45203      US  US/Eastern         KLUK   \n",
              "3    R       Akron      Summit    OH   44311      US  US/Eastern         KAKR   \n",
              "4    R  Cincinnati    Hamilton    OH   45217      US  US/Eastern         KLUK   \n",
              "\n",
              "     Weather_Timestamp  Temperature(F)  Wind_Chill(F)  Humidity(%)  \\\n",
              "0  2016-02-08 00:53:00            42.1           36.1         58.0   \n",
              "1  2016-02-08 05:58:00            36.9            NaN         91.0   \n",
              "2  2016-02-08 05:53:00            36.0            NaN         97.0   \n",
              "3  2016-02-08 06:54:00            39.0            NaN         55.0   \n",
              "4  2016-02-08 07:53:00            37.0           29.8         93.0   \n",
              "\n",
              "   Pressure(in)  Visibility(mi) Wind_Direction  Wind_Speed(mph)  \\\n",
              "0         29.76            10.0             SW             10.4   \n",
              "1         29.68            10.0           Calm              NaN   \n",
              "2         29.70            10.0           Calm              NaN   \n",
              "3         29.65            10.0           Calm              NaN   \n",
              "4         29.69            10.0            WSW             10.4   \n",
              "\n",
              "   Precipitation(in) Weather_Condition  Amenity   Bump  Crossing  Give_Way  \\\n",
              "0               0.00        Light Rain    False  False     False     False   \n",
              "1               0.02        Light Rain    False  False     False     False   \n",
              "2               0.02          Overcast    False  False     False     False   \n",
              "3                NaN          Overcast    False  False     False     False   \n",
              "4               0.01        Light Rain    False  False     False     False   \n",
              "\n",
              "   Junction  No_Exit  Railway  Roundabout  Station   Stop  Traffic_Calming  \\\n",
              "0     False    False    False       False    False  False            False   \n",
              "1     False    False    False       False    False  False            False   \n",
              "2      True    False    False       False    False  False            False   \n",
              "3     False    False    False       False    False  False            False   \n",
              "4     False    False    False       False    False  False            False   \n",
              "\n",
              "   Traffic_Signal  Turning_Loop Sunrise_Sunset Civil_Twilight  \\\n",
              "0           False         False          Night          Night   \n",
              "1           False         False          Night          Night   \n",
              "2           False         False          Night          Night   \n",
              "3           False         False          Night          Night   \n",
              "4           False         False            Day            Day   \n",
              "\n",
              "  Nautical_Twilight Astronomical_Twilight  \n",
              "0             Night                 Night  \n",
              "1             Night                 Night  \n",
              "2             Night                   Day  \n",
              "3               Day                   Day  \n",
              "4               Day                   Day  "
            ]
          },
          "execution_count": 3,
          "metadata": {},
          "output_type": "execute_result"
        }
      ],
      "source": [
        "#displaying the first 5 rows of the dataset\n",
        "df.head()"
      ]
    },
    {
      "cell_type": "code",
      "execution_count": null,
      "id": "31863cff",
      "metadata": {
        "id": "31863cff",
        "outputId": "9a055f09-db32-4393-eb7e-3d8972282331"
      },
      "outputs": [
        {
          "data": {
            "text/plain": [
              "(2845342, 47)"
            ]
          },
          "execution_count": 4,
          "metadata": {},
          "output_type": "execute_result"
        }
      ],
      "source": [
        "#displaying the size of the dataset\n",
        "df.shape"
      ]
    },
    {
      "cell_type": "code",
      "execution_count": null,
      "id": "608a2be5",
      "metadata": {
        "id": "608a2be5",
        "outputId": "b64be9d1-cf90-48b6-b649-c9d9627a070d"
      },
      "outputs": [
        {
          "data": {
            "text/plain": [
              "Index(['ID', 'Severity', 'Start_Time', 'End_Time', 'Start_Lat', 'Start_Lng',\n",
              "       'End_Lat', 'End_Lng', 'Distance(mi)', 'Description', 'Number', 'Street',\n",
              "       'Side', 'City', 'County', 'State', 'Zipcode', 'Country', 'Timezone',\n",
              "       'Airport_Code', 'Weather_Timestamp', 'Temperature(F)', 'Wind_Chill(F)',\n",
              "       'Humidity(%)', 'Pressure(in)', 'Visibility(mi)', 'Wind_Direction',\n",
              "       'Wind_Speed(mph)', 'Precipitation(in)', 'Weather_Condition', 'Amenity',\n",
              "       'Bump', 'Crossing', 'Give_Way', 'Junction', 'No_Exit', 'Railway',\n",
              "       'Roundabout', 'Station', 'Stop', 'Traffic_Calming', 'Traffic_Signal',\n",
              "       'Turning_Loop', 'Sunrise_Sunset', 'Civil_Twilight', 'Nautical_Twilight',\n",
              "       'Astronomical_Twilight'],\n",
              "      dtype='object')"
            ]
          },
          "execution_count": 5,
          "metadata": {},
          "output_type": "execute_result"
        }
      ],
      "source": [
        "#displaying all the columns present in the dataset\n",
        "df.columns"
      ]
    },
    {
      "cell_type": "code",
      "execution_count": null,
      "id": "5a647e62",
      "metadata": {
        "id": "5a647e62",
        "outputId": "ac118840-8e56-476a-bcad-c65d22aee699"
      },
      "outputs": [
        {
          "name": "stdout",
          "output_type": "stream",
          "text": [
            "<class 'pandas.core.frame.DataFrame'>\n",
            "RangeIndex: 2845342 entries, 0 to 2845341\n",
            "Data columns (total 47 columns):\n",
            " #   Column                 Dtype  \n",
            "---  ------                 -----  \n",
            " 0   ID                     object \n",
            " 1   Severity               int64  \n",
            " 2   Start_Time             object \n",
            " 3   End_Time               object \n",
            " 4   Start_Lat              float64\n",
            " 5   Start_Lng              float64\n",
            " 6   End_Lat                float64\n",
            " 7   End_Lng                float64\n",
            " 8   Distance(mi)           float64\n",
            " 9   Description            object \n",
            " 10  Number                 float64\n",
            " 11  Street                 object \n",
            " 12  Side                   object \n",
            " 13  City                   object \n",
            " 14  County                 object \n",
            " 15  State                  object \n",
            " 16  Zipcode                object \n",
            " 17  Country                object \n",
            " 18  Timezone               object \n",
            " 19  Airport_Code           object \n",
            " 20  Weather_Timestamp      object \n",
            " 21  Temperature(F)         float64\n",
            " 22  Wind_Chill(F)          float64\n",
            " 23  Humidity(%)            float64\n",
            " 24  Pressure(in)           float64\n",
            " 25  Visibility(mi)         float64\n",
            " 26  Wind_Direction         object \n",
            " 27  Wind_Speed(mph)        float64\n",
            " 28  Precipitation(in)      float64\n",
            " 29  Weather_Condition      object \n",
            " 30  Amenity                bool   \n",
            " 31  Bump                   bool   \n",
            " 32  Crossing               bool   \n",
            " 33  Give_Way               bool   \n",
            " 34  Junction               bool   \n",
            " 35  No_Exit                bool   \n",
            " 36  Railway                bool   \n",
            " 37  Roundabout             bool   \n",
            " 38  Station                bool   \n",
            " 39  Stop                   bool   \n",
            " 40  Traffic_Calming        bool   \n",
            " 41  Traffic_Signal         bool   \n",
            " 42  Turning_Loop           bool   \n",
            " 43  Sunrise_Sunset         object \n",
            " 44  Civil_Twilight         object \n",
            " 45  Nautical_Twilight      object \n",
            " 46  Astronomical_Twilight  object \n",
            "dtypes: bool(13), float64(13), int64(1), object(20)\n",
            "memory usage: 773.4+ MB\n"
          ]
        }
      ],
      "source": [
        "#dispalying the data types of each column in the dataset\n",
        "df.info()"
      ]
    },
    {
      "cell_type": "code",
      "execution_count": null,
      "id": "55fdc3ce",
      "metadata": {
        "id": "55fdc3ce",
        "outputId": "3333e20f-78ab-4dfa-fa32-556f209bd62a"
      },
      "outputs": [
        {
          "data": {
            "text/html": [
              "<div>\n",
              "<style scoped>\n",
              "    .dataframe tbody tr th:only-of-type {\n",
              "        vertical-align: middle;\n",
              "    }\n",
              "\n",
              "    .dataframe tbody tr th {\n",
              "        vertical-align: top;\n",
              "    }\n",
              "\n",
              "    .dataframe thead th {\n",
              "        text-align: right;\n",
              "    }\n",
              "</style>\n",
              "<table border=\"1\" class=\"dataframe\">\n",
              "  <thead>\n",
              "    <tr style=\"text-align: right;\">\n",
              "      <th></th>\n",
              "      <th>Severity</th>\n",
              "      <th>Start_Lat</th>\n",
              "      <th>Start_Lng</th>\n",
              "      <th>End_Lat</th>\n",
              "      <th>End_Lng</th>\n",
              "      <th>Distance(mi)</th>\n",
              "      <th>Number</th>\n",
              "      <th>Temperature(F)</th>\n",
              "      <th>Wind_Chill(F)</th>\n",
              "      <th>Humidity(%)</th>\n",
              "      <th>Pressure(in)</th>\n",
              "      <th>Visibility(mi)</th>\n",
              "      <th>Wind_Speed(mph)</th>\n",
              "      <th>Precipitation(in)</th>\n",
              "    </tr>\n",
              "  </thead>\n",
              "  <tbody>\n",
              "    <tr>\n",
              "      <th>count</th>\n",
              "      <td>2.845342e+06</td>\n",
              "      <td>2.845342e+06</td>\n",
              "      <td>2.845342e+06</td>\n",
              "      <td>2.845342e+06</td>\n",
              "      <td>2.845342e+06</td>\n",
              "      <td>2.845342e+06</td>\n",
              "      <td>1.101431e+06</td>\n",
              "      <td>2.776068e+06</td>\n",
              "      <td>2.375699e+06</td>\n",
              "      <td>2.772250e+06</td>\n",
              "      <td>2.786142e+06</td>\n",
              "      <td>2.774796e+06</td>\n",
              "      <td>2.687398e+06</td>\n",
              "      <td>2.295884e+06</td>\n",
              "    </tr>\n",
              "    <tr>\n",
              "      <th>mean</th>\n",
              "      <td>2.137572e+00</td>\n",
              "      <td>3.624520e+01</td>\n",
              "      <td>-9.711463e+01</td>\n",
              "      <td>3.624532e+01</td>\n",
              "      <td>-9.711439e+01</td>\n",
              "      <td>7.026779e-01</td>\n",
              "      <td>8.089408e+03</td>\n",
              "      <td>6.179356e+01</td>\n",
              "      <td>5.965823e+01</td>\n",
              "      <td>6.436545e+01</td>\n",
              "      <td>2.947234e+01</td>\n",
              "      <td>9.099391e+00</td>\n",
              "      <td>7.395044e+00</td>\n",
              "      <td>7.016940e-03</td>\n",
              "    </tr>\n",
              "    <tr>\n",
              "      <th>std</th>\n",
              "      <td>4.787216e-01</td>\n",
              "      <td>5.363797e+00</td>\n",
              "      <td>1.831782e+01</td>\n",
              "      <td>5.363873e+00</td>\n",
              "      <td>1.831763e+01</td>\n",
              "      <td>1.560361e+00</td>\n",
              "      <td>1.836009e+04</td>\n",
              "      <td>1.862263e+01</td>\n",
              "      <td>2.116097e+01</td>\n",
              "      <td>2.287457e+01</td>\n",
              "      <td>1.045286e+00</td>\n",
              "      <td>2.717546e+00</td>\n",
              "      <td>5.527454e+00</td>\n",
              "      <td>9.348831e-02</td>\n",
              "    </tr>\n",
              "    <tr>\n",
              "      <th>min</th>\n",
              "      <td>1.000000e+00</td>\n",
              "      <td>2.456603e+01</td>\n",
              "      <td>-1.245481e+02</td>\n",
              "      <td>2.456601e+01</td>\n",
              "      <td>-1.245457e+02</td>\n",
              "      <td>0.000000e+00</td>\n",
              "      <td>0.000000e+00</td>\n",
              "      <td>-8.900000e+01</td>\n",
              "      <td>-8.900000e+01</td>\n",
              "      <td>1.000000e+00</td>\n",
              "      <td>0.000000e+00</td>\n",
              "      <td>0.000000e+00</td>\n",
              "      <td>0.000000e+00</td>\n",
              "      <td>0.000000e+00</td>\n",
              "    </tr>\n",
              "    <tr>\n",
              "      <th>25%</th>\n",
              "      <td>2.000000e+00</td>\n",
              "      <td>3.344517e+01</td>\n",
              "      <td>-1.180331e+02</td>\n",
              "      <td>3.344628e+01</td>\n",
              "      <td>-1.180333e+02</td>\n",
              "      <td>5.200000e-02</td>\n",
              "      <td>1.270000e+03</td>\n",
              "      <td>5.000000e+01</td>\n",
              "      <td>4.600000e+01</td>\n",
              "      <td>4.800000e+01</td>\n",
              "      <td>2.931000e+01</td>\n",
              "      <td>1.000000e+01</td>\n",
              "      <td>3.500000e+00</td>\n",
              "      <td>0.000000e+00</td>\n",
              "    </tr>\n",
              "    <tr>\n",
              "      <th>50%</th>\n",
              "      <td>2.000000e+00</td>\n",
              "      <td>3.609861e+01</td>\n",
              "      <td>-9.241808e+01</td>\n",
              "      <td>3.609799e+01</td>\n",
              "      <td>-9.241772e+01</td>\n",
              "      <td>2.440000e-01</td>\n",
              "      <td>4.007000e+03</td>\n",
              "      <td>6.400000e+01</td>\n",
              "      <td>6.300000e+01</td>\n",
              "      <td>6.700000e+01</td>\n",
              "      <td>2.982000e+01</td>\n",
              "      <td>1.000000e+01</td>\n",
              "      <td>7.000000e+00</td>\n",
              "      <td>0.000000e+00</td>\n",
              "    </tr>\n",
              "    <tr>\n",
              "      <th>75%</th>\n",
              "      <td>2.000000e+00</td>\n",
              "      <td>4.016024e+01</td>\n",
              "      <td>-8.037243e+01</td>\n",
              "      <td>4.016105e+01</td>\n",
              "      <td>-8.037338e+01</td>\n",
              "      <td>7.640000e-01</td>\n",
              "      <td>9.567000e+03</td>\n",
              "      <td>7.600000e+01</td>\n",
              "      <td>7.600000e+01</td>\n",
              "      <td>8.300000e+01</td>\n",
              "      <td>3.001000e+01</td>\n",
              "      <td>1.000000e+01</td>\n",
              "      <td>1.000000e+01</td>\n",
              "      <td>0.000000e+00</td>\n",
              "    </tr>\n",
              "    <tr>\n",
              "      <th>max</th>\n",
              "      <td>4.000000e+00</td>\n",
              "      <td>4.900058e+01</td>\n",
              "      <td>-6.711317e+01</td>\n",
              "      <td>4.907500e+01</td>\n",
              "      <td>-6.710924e+01</td>\n",
              "      <td>1.551860e+02</td>\n",
              "      <td>9.999997e+06</td>\n",
              "      <td>1.960000e+02</td>\n",
              "      <td>1.960000e+02</td>\n",
              "      <td>1.000000e+02</td>\n",
              "      <td>5.890000e+01</td>\n",
              "      <td>1.400000e+02</td>\n",
              "      <td>1.087000e+03</td>\n",
              "      <td>2.400000e+01</td>\n",
              "    </tr>\n",
              "  </tbody>\n",
              "</table>\n",
              "</div>"
            ],
            "text/plain": [
              "           Severity     Start_Lat     Start_Lng       End_Lat       End_Lng  \\\n",
              "count  2.845342e+06  2.845342e+06  2.845342e+06  2.845342e+06  2.845342e+06   \n",
              "mean   2.137572e+00  3.624520e+01 -9.711463e+01  3.624532e+01 -9.711439e+01   \n",
              "std    4.787216e-01  5.363797e+00  1.831782e+01  5.363873e+00  1.831763e+01   \n",
              "min    1.000000e+00  2.456603e+01 -1.245481e+02  2.456601e+01 -1.245457e+02   \n",
              "25%    2.000000e+00  3.344517e+01 -1.180331e+02  3.344628e+01 -1.180333e+02   \n",
              "50%    2.000000e+00  3.609861e+01 -9.241808e+01  3.609799e+01 -9.241772e+01   \n",
              "75%    2.000000e+00  4.016024e+01 -8.037243e+01  4.016105e+01 -8.037338e+01   \n",
              "max    4.000000e+00  4.900058e+01 -6.711317e+01  4.907500e+01 -6.710924e+01   \n",
              "\n",
              "       Distance(mi)        Number  Temperature(F)  Wind_Chill(F)  \\\n",
              "count  2.845342e+06  1.101431e+06    2.776068e+06   2.375699e+06   \n",
              "mean   7.026779e-01  8.089408e+03    6.179356e+01   5.965823e+01   \n",
              "std    1.560361e+00  1.836009e+04    1.862263e+01   2.116097e+01   \n",
              "min    0.000000e+00  0.000000e+00   -8.900000e+01  -8.900000e+01   \n",
              "25%    5.200000e-02  1.270000e+03    5.000000e+01   4.600000e+01   \n",
              "50%    2.440000e-01  4.007000e+03    6.400000e+01   6.300000e+01   \n",
              "75%    7.640000e-01  9.567000e+03    7.600000e+01   7.600000e+01   \n",
              "max    1.551860e+02  9.999997e+06    1.960000e+02   1.960000e+02   \n",
              "\n",
              "        Humidity(%)  Pressure(in)  Visibility(mi)  Wind_Speed(mph)  \\\n",
              "count  2.772250e+06  2.786142e+06    2.774796e+06     2.687398e+06   \n",
              "mean   6.436545e+01  2.947234e+01    9.099391e+00     7.395044e+00   \n",
              "std    2.287457e+01  1.045286e+00    2.717546e+00     5.527454e+00   \n",
              "min    1.000000e+00  0.000000e+00    0.000000e+00     0.000000e+00   \n",
              "25%    4.800000e+01  2.931000e+01    1.000000e+01     3.500000e+00   \n",
              "50%    6.700000e+01  2.982000e+01    1.000000e+01     7.000000e+00   \n",
              "75%    8.300000e+01  3.001000e+01    1.000000e+01     1.000000e+01   \n",
              "max    1.000000e+02  5.890000e+01    1.400000e+02     1.087000e+03   \n",
              "\n",
              "       Precipitation(in)  \n",
              "count       2.295884e+06  \n",
              "mean        7.016940e-03  \n",
              "std         9.348831e-02  \n",
              "min         0.000000e+00  \n",
              "25%         0.000000e+00  \n",
              "50%         0.000000e+00  \n",
              "75%         0.000000e+00  \n",
              "max         2.400000e+01  "
            ]
          },
          "execution_count": 7,
          "metadata": {},
          "output_type": "execute_result"
        }
      ],
      "source": [
        "#displaying the statistics of all the numerical columns present in the dataset\n",
        "df.describe()"
      ]
    },
    {
      "cell_type": "code",
      "execution_count": null,
      "id": "13e4e446",
      "metadata": {
        "id": "13e4e446",
        "outputId": "24471497-040c-4bf8-e31d-608c4c36e36d"
      },
      "outputs": [
        {
          "data": {
            "text/plain": [
              "14"
            ]
          },
          "execution_count": 8,
          "metadata": {},
          "output_type": "execute_result"
        }
      ],
      "source": [
        "#displaying only the number of numeric columns in the data \n",
        "numerics = ['int16', 'int32', 'int64', 'float16', 'float32', 'float64']\n",
        "\n",
        "df_numeric = df.select_dtypes(include=numerics)\n",
        "len(df_numeric.columns)"
      ]
    },
    {
      "cell_type": "code",
      "execution_count": null,
      "id": "1d6c7ab8",
      "metadata": {
        "id": "1d6c7ab8",
        "outputId": "015ff74c-84c5-4f52-e0f7-3c3d731b6ce8"
      },
      "outputs": [
        {
          "data": {
            "text/plain": [
              "ID                        0.000000\n",
              "Severity                  0.000000\n",
              "Start_Time                0.000000\n",
              "End_Time                  0.000000\n",
              "Start_Lat                 0.000000\n",
              "Start_Lng                 0.000000\n",
              "End_Lat                   0.000000\n",
              "End_Lng                   0.000000\n",
              "Distance(mi)              0.000000\n",
              "Description               0.000000\n",
              "Number                   61.290031\n",
              "Street                    0.000070\n",
              "Side                      0.000000\n",
              "City                      0.004815\n",
              "County                    0.000000\n",
              "State                     0.000000\n",
              "Zipcode                   0.046356\n",
              "Country                   0.000000\n",
              "Timezone                  0.128596\n",
              "Airport_Code              0.335601\n",
              "Weather_Timestamp         1.783125\n",
              "Temperature(F)            2.434646\n",
              "Wind_Chill(F)            16.505678\n",
              "Humidity(%)               2.568830\n",
              "Pressure(in)              2.080593\n",
              "Visibility(mi)            2.479350\n",
              "Wind_Direction            2.592834\n",
              "Wind_Speed(mph)           5.550967\n",
              "Precipitation(in)        19.310789\n",
              "Weather_Condition         2.482514\n",
              "Amenity                   0.000000\n",
              "Bump                      0.000000\n",
              "Crossing                  0.000000\n",
              "Give_Way                  0.000000\n",
              "Junction                  0.000000\n",
              "No_Exit                   0.000000\n",
              "Railway                   0.000000\n",
              "Roundabout                0.000000\n",
              "Station                   0.000000\n",
              "Stop                      0.000000\n",
              "Traffic_Calming           0.000000\n",
              "Traffic_Signal            0.000000\n",
              "Turning_Loop              0.000000\n",
              "Sunrise_Sunset            0.100761\n",
              "Civil_Twilight            0.100761\n",
              "Nautical_Twilight         0.100761\n",
              "Astronomical_Twilight     0.100761\n",
              "dtype: float64"
            ]
          },
          "execution_count": 9,
          "metadata": {},
          "output_type": "execute_result"
        }
      ],
      "source": [
        "#percentage of missing values per column\n",
        "missing_percentages = df.isnull().sum()/df.shape[0]*100\n",
        "missing_percentages"
      ]
    },
    {
      "cell_type": "code",
      "execution_count": null,
      "id": "b877a1a2",
      "metadata": {
        "id": "b877a1a2",
        "outputId": "33d29926-5bb2-484d-fe74-fc1db8c4f739"
      },
      "outputs": [
        {
          "data": {
            "text/plain": [
              "pandas.core.series.Series"
            ]
          },
          "execution_count": 10,
          "metadata": {},
          "output_type": "execute_result"
        }
      ],
      "source": [
        "type(missing_percentages)"
      ]
    },
    {
      "cell_type": "code",
      "execution_count": null,
      "id": "be582ac7",
      "metadata": {
        "id": "be582ac7",
        "outputId": "fa29e6cc-393b-4ee3-ca25-411468cd5d61"
      },
      "outputs": [
        {
          "data": {
            "text/plain": [
              "<AxesSubplot:>"
            ]
          },
          "execution_count": 11,
          "metadata": {},
          "output_type": "execute_result"
        },
        {
          "data": {
            "image/png": "[encoded data removed]",
            "text/plain": [
              "<Figure size 432x288 with 1 Axes>"
            ]
          },
          "metadata": {},
          "output_type": "display_data"
        }
      ],
      "source": [
        "#choosing the columns that have missing values and plotting them\n",
        "missing_percentages[missing_percentages != 0].plot(kind='barh')"
      ]
    },
    {
      "cell_type": "markdown",
      "id": "ca19e164",
      "metadata": {
        "id": "ca19e164"
      },
      "source": [
        "## Exploratory Data Analysis"
      ]
    },
    {
      "cell_type": "code",
      "execution_count": null,
      "id": "1857695c",
      "metadata": {
        "id": "1857695c"
      },
      "outputs": [],
      "source": [
        "#city\n",
        "#start time\n",
        "#start lat, start lng\n",
        "#temperature\n",
        "#weather condition"
      ]
    },
    {
      "cell_type": "code",
      "execution_count": null,
      "id": "c91f4f82",
      "metadata": {
        "id": "c91f4f82",
        "outputId": "5053d3e4-4581-4f3d-d35b-a19c1570f29a"
      },
      "outputs": [
        {
          "data": {
            "text/plain": [
              "11681"
            ]
          },
          "execution_count": 13,
          "metadata": {},
          "output_type": "execute_result"
        }
      ],
      "source": [
        "df['City'].nunique()"
      ]
    },
    {
      "cell_type": "code",
      "execution_count": null,
      "id": "528ea49f",
      "metadata": {
        "id": "528ea49f",
        "outputId": "6d1ecf45-34e0-443e-a659-3992c2793303"
      },
      "outputs": [
        {
          "data": {
            "text/plain": [
              "Miami               106966\n",
              "Los Angeles          68956\n",
              "Orlando              54691\n",
              "Dallas               41979\n",
              "Houston              39448\n",
              "                     ...  \n",
              "Stephens                 1\n",
              "Apalachicola             1\n",
              "Canandaigua              1\n",
              "Kill Devil Hills         1\n",
              "Butlerville              1\n",
              "Name: City, Length: 11681, dtype: int64"
            ]
          },
          "execution_count": 14,
          "metadata": {},
          "output_type": "execute_result"
        }
      ],
      "source": [
        "#number of accidents per city\n",
        "cities = df['City'].value_counts()\n",
        "cities"
      ]
    },
    {
      "cell_type": "code",
      "execution_count": null,
      "id": "a6d61de3",
      "metadata": {
        "id": "a6d61de3",
        "outputId": "ef91524b-95d4-44b6-f8c3-f3eefeb70469"
      },
      "outputs": [
        {
          "data": {
            "text/plain": [
              "Miami           106966\n",
              "Los Angeles      68956\n",
              "Orlando          54691\n",
              "Dallas           41979\n",
              "Houston          39448\n",
              "Charlotte        33152\n",
              "Sacramento       32559\n",
              "San Diego        26627\n",
              "Raleigh          22840\n",
              "Minneapolis      22768\n",
              "Portland         20944\n",
              "Nashville        20267\n",
              "Austin           18301\n",
              "Baton Rouge      18182\n",
              "Phoenix          17143\n",
              "Saint Paul       16869\n",
              "New Orleans      16251\n",
              "Atlanta          15622\n",
              "Jacksonville     14967\n",
              "Richmond         14349\n",
              "Name: City, dtype: int64"
            ]
          },
          "execution_count": 15,
          "metadata": {},
          "output_type": "execute_result"
        }
      ],
      "source": [
        "cities[:20]"
      ]
    },
    {
      "cell_type": "code",
      "execution_count": null,
      "id": "8cda8883",
      "metadata": {
        "id": "8cda8883",
        "outputId": "c58a8e0d-c894-4cc4-864b-92817dad984c"
      },
      "outputs": [
        {
          "data": {
            "text/plain": [
              "<AxesSubplot:>"
            ]
          },
          "execution_count": 16,
          "metadata": {},
          "output_type": "execute_result"
        },
        {
          "data": {
            "image/png": "[encoded data removed]",
            "text/plain": [
              "<Figure size 432x288 with 1 Axes>"
            ]
          },
          "metadata": {},
          "output_type": "display_data"
        }
      ],
      "source": [
        "cities[:20].plot(kind='barh')"
      ]
    },
    {
      "cell_type": "code",
      "execution_count": null,
      "id": "3125e76f",
      "metadata": {
        "id": "3125e76f",
        "outputId": "66f3e371-f211-4b4d-d8e1-a6768491eab8"
      },
      "outputs": [
        {
          "name": "stderr",
          "output_type": "stream",
          "text": [
            "/Users/poulomipal/opt/anaconda3/lib/python3.8/site-packages/seaborn/distributions.py:2557: FutureWarning: `distplot` is a deprecated function and will be removed in a future version. Please adapt your code to use either `displot` (a figure-level function with similar flexibility) or `histplot` (an axes-level function for histograms).\n",
            "  warnings.warn(msg, FutureWarning)\n"
          ]
        },
        {
          "data": {
            "text/plain": [
              "<AxesSubplot:xlabel='City', ylabel='Density'>"
            ]
          },
          "execution_count": 17,
          "metadata": {},
          "output_type": "execute_result"
        },
        {
          "data": {
            "image/png": "[encoded data removed]",
            "text/plain": [
              "<Figure size 432x288 with 1 Axes>"
            ]
          },
          "metadata": {},
          "output_type": "display_data"
        }
      ],
      "source": [
        "sns.distplot(cities)"
      ]
    },
    {
      "cell_type": "markdown",
      "id": "68e756a7",
      "metadata": {
        "id": "68e756a7"
      },
      "source": [
        "Distribution of accidents: most of the cities have very few accidents, around 2000"
      ]
    },
    {
      "cell_type": "code",
      "execution_count": null,
      "id": "c0e5192c",
      "metadata": {
        "id": "c0e5192c"
      },
      "outputs": [],
      "source": [
        "#creating two buckets, for cities with greater than 1000 accidents and lower than 1000 accidents\n",
        "high_accident_cities = cities[cities>=1000]\n",
        "low_accident_cities = cities[cities<1000]"
      ]
    },
    {
      "cell_type": "code",
      "execution_count": null,
      "id": "a565fe93",
      "metadata": {
        "id": "a565fe93",
        "outputId": "e82b38a8-3798-4542-939b-02c5f5a508fd"
      },
      "outputs": [
        {
          "data": {
            "text/plain": [
              "0.04246211796935194"
            ]
          },
          "execution_count": 19,
          "metadata": {},
          "output_type": "execute_result"
        }
      ],
      "source": [
        "#number of high accident cities\n",
        "len(high_accident_cities)/df['City'].nunique()"
      ]
    },
    {
      "cell_type": "markdown",
      "id": "a2b5ca18",
      "metadata": {
        "id": "a2b5ca18"
      },
      "source": [
        "Only 4% of total cities have >1000 accidents"
      ]
    },
    {
      "cell_type": "code",
      "execution_count": null,
      "id": "1e6b4a7d",
      "metadata": {
        "id": "1e6b4a7d",
        "outputId": "6074a64b-e119-4145-b763-6038adfb5606"
      },
      "outputs": [
        {
          "name": "stderr",
          "output_type": "stream",
          "text": [
            "/Users/poulomipal/opt/anaconda3/lib/python3.8/site-packages/seaborn/distributions.py:2557: FutureWarning: `distplot` is a deprecated function and will be removed in a future version. Please adapt your code to use either `displot` (a figure-level function with similar flexibility) or `histplot` (an axes-level function for histograms).\n",
            "  warnings.warn(msg, FutureWarning)\n"
          ]
        },
        {
          "data": {
            "text/plain": [
              "<AxesSubplot:xlabel='City', ylabel='Density'>"
            ]
          },
          "execution_count": 20,
          "metadata": {},
          "output_type": "execute_result"
        },
        {
          "data": {
            "image/png": "[encoded data removed]",
            "text/plain": [
              "<Figure size 432x288 with 1 Axes>"
            ]
          },
          "metadata": {},
          "output_type": "display_data"
        }
      ],
      "source": [
        "sns.distplot(high_accident_cities)"
      ]
    },
    {
      "cell_type": "code",
      "execution_count": null,
      "id": "e6b10287",
      "metadata": {
        "id": "e6b10287",
        "outputId": "6e1861ea-7fd0-4fd5-ebcc-8eec335c7c18"
      },
      "outputs": [
        {
          "data": {
            "text/plain": [
              "0.957537882030648"
            ]
          },
          "execution_count": 21,
          "metadata": {},
          "output_type": "execute_result"
        }
      ],
      "source": [
        "len(low_accident_cities)/df['City'].nunique()"
      ]
    },
    {
      "cell_type": "code",
      "execution_count": null,
      "id": "88b7f1bb",
      "metadata": {
        "id": "88b7f1bb",
        "outputId": "4bd5d912-4b07-4b11-9ed9-9783e4067085"
      },
      "outputs": [
        {
          "name": "stderr",
          "output_type": "stream",
          "text": [
            "/Users/poulomipal/opt/anaconda3/lib/python3.8/site-packages/seaborn/distributions.py:2557: FutureWarning: `distplot` is a deprecated function and will be removed in a future version. Please adapt your code to use either `displot` (a figure-level function with similar flexibility) or `histplot` (an axes-level function for histograms).\n",
            "  warnings.warn(msg, FutureWarning)\n"
          ]
        },
        {
          "data": {
            "text/plain": [
              "<AxesSubplot:xlabel='City', ylabel='Density'>"
            ]
          },
          "execution_count": 22,
          "metadata": {},
          "output_type": "execute_result"
        },
        {
          "data": {
            "image/png": "[encoded data removed]",
            "text/plain": [
              "<Figure size 432x288 with 1 Axes>"
            ]
          },
          "metadata": {},
          "output_type": "display_data"
        }
      ],
      "source": [
        "sns.distplot(low_accident_cities)"
      ]
    },
    {
      "cell_type": "code",
      "execution_count": null,
      "id": "1f2c93bb",
      "metadata": {
        "id": "1f2c93bb",
        "outputId": "0eea9214-9436-4e4e-84b0-10e4910b0f51"
      },
      "outputs": [
        {
          "data": {
            "text/plain": [
              "<AxesSubplot:xlabel='City', ylabel='Count'>"
            ]
          },
          "execution_count": 23,
          "metadata": {},
          "output_type": "execute_result"
        },
        {
          "data": {
            "image/png": "[encoded data removed]",
            "text/plain": [
              "<Figure size 432x288 with 1 Axes>"
            ]
          },
          "metadata": {},
          "output_type": "display_data"
        }
      ],
      "source": [
        "sns.histplot(cities, log_scale=True)"
      ]
    },
    {
      "cell_type": "code",
      "execution_count": null,
      "id": "1a809258",
      "metadata": {
        "id": "1a809258",
        "outputId": "fa818bef-15c3-4e49-d269-72c3be7923e0"
      },
      "outputs": [
        {
          "data": {
            "text/plain": [
              "Medicine Lake       1\n",
              "Tuscola             1\n",
              "Ruso                1\n",
              "Buckatunna          1\n",
              "Muskego             1\n",
              "                   ..\n",
              "Stephens            1\n",
              "Apalachicola        1\n",
              "Canandaigua         1\n",
              "Kill Devil Hills    1\n",
              "Butlerville         1\n",
              "Name: City, Length: 1110, dtype: int64"
            ]
          },
          "execution_count": 24,
          "metadata": {},
          "output_type": "execute_result"
        }
      ],
      "source": [
        "cities[cities == 1]"
      ]
    },
    {
      "cell_type": "markdown",
      "id": "ecba0a54",
      "metadata": {
        "id": "ecba0a54"
      },
      "source": [
        "### Start time"
      ]
    },
    {
      "cell_type": "code",
      "execution_count": null,
      "id": "59b9e30b",
      "metadata": {
        "id": "59b9e30b",
        "outputId": "5f751c6d-db1f-4900-ca34-56742f4ba79f"
      },
      "outputs": [
        {
          "data": {
            "text/plain": [
              "0          2016-02-08 00:37:08\n",
              "1          2016-02-08 05:56:20\n",
              "2          2016-02-08 06:15:39\n",
              "3          2016-02-08 06:51:45\n",
              "4          2016-02-08 07:53:43\n",
              "                  ...         \n",
              "2845337    2019-08-23 18:03:25\n",
              "2845338    2019-08-23 19:11:30\n",
              "2845339    2019-08-23 19:00:21\n",
              "2845340    2019-08-23 19:00:21\n",
              "2845341    2019-08-23 18:52:06\n",
              "Name: Start_Time, Length: 2845342, dtype: object"
            ]
          },
          "execution_count": 25,
          "metadata": {},
          "output_type": "execute_result"
        }
      ],
      "source": [
        "df['Start_Time']"
      ]
    },
    {
      "cell_type": "code",
      "execution_count": null,
      "id": "faacf612",
      "metadata": {
        "id": "faacf612"
      },
      "outputs": [],
      "source": [
        "df['Start_Time'] = pd.to_datetime(df['Start_Time'], infer_datetime_format=True)"
      ]
    },
    {
      "cell_type": "code",
      "execution_count": null,
      "id": "d341641c",
      "metadata": {
        "id": "d341641c",
        "outputId": "5f268595-2cce-4a13-e2fc-ea5927d471f7"
      },
      "outputs": [
        {
          "name": "stderr",
          "output_type": "stream",
          "text": [
            "/Users/poulomipal/opt/anaconda3/lib/python3.8/site-packages/seaborn/distributions.py:2557: FutureWarning: `distplot` is a deprecated function and will be removed in a future version. Please adapt your code to use either `displot` (a figure-level function with similar flexibility) or `histplot` (an axes-level function for histograms).\n",
            "  warnings.warn(msg, FutureWarning)\n"
          ]
        },
        {
          "data": {
            "text/plain": [
              "<AxesSubplot:xlabel='Start_Time'>"
            ]
          },
          "execution_count": 27,
          "metadata": {},
          "output_type": "execute_result"
        },
        {
          "data": {
            "image/png": "[encoded data removed]",
            "text/plain": [
              "<Figure size 432x288 with 1 Axes>"
            ]
          },
          "metadata": {},
          "output_type": "display_data"
        }
      ],
      "source": [
        "#percentages on the y axis\n",
        "sns.distplot(df.Start_Time.dt.hour, bins=24, kde=False, norm_hist=True)"
      ]
    },
    {
      "cell_type": "markdown",
      "id": "21933057",
      "metadata": {
        "id": "21933057"
      },
      "source": [
        "A high percentage of accidents occur between 6 - 10 am (may be because people are in a rush to get to work) and the next highest percentage of accidents occur between 3 to 6 pm "
      ]
    },
    {
      "cell_type": "code",
      "execution_count": null,
      "id": "75cbb570",
      "metadata": {
        "id": "75cbb570",
        "outputId": "b5dba82d-9308-4f2a-cb6c-21dc283b864a"
      },
      "outputs": [
        {
          "data": {
            "text/plain": [
              "<AxesSubplot:xlabel='Start_Time'>"
            ]
          },
          "execution_count": 28,
          "metadata": {},
          "output_type": "execute_result"
        },
        {
          "data": {
            "image/png": "[encoded data removed]",
            "text/plain": [
              "<Figure size 432x288 with 1 Axes>"
            ]
          },
          "metadata": {},
          "output_type": "display_data"
        }
      ],
      "source": [
        "sns.distplot(df.Start_Time.dt.dayofweek, bins=7, kde=False, norm_hist=True)"
      ]
    },
    {
      "cell_type": "markdown",
      "id": "61688a7b",
      "metadata": {
        "id": "61688a7b"
      },
      "source": [
        "#### Is the distribution of accidents by hour the same on weekends as on weekdays?\n"
      ]
    },
    {
      "cell_type": "code",
      "execution_count": null,
      "id": "fba936e8",
      "metadata": {
        "id": "fba936e8",
        "outputId": "cba27633-d44b-4700-de97-f69a4ad819e5"
      },
      "outputs": [
        {
          "name": "stderr",
          "output_type": "stream",
          "text": [
            "/Users/poulomipal/opt/anaconda3/lib/python3.8/site-packages/seaborn/distributions.py:2557: FutureWarning: `distplot` is a deprecated function and will be removed in a future version. Please adapt your code to use either `displot` (a figure-level function with similar flexibility) or `histplot` (an axes-level function for histograms).\n",
            "  warnings.warn(msg, FutureWarning)\n"
          ]
        },
        {
          "data": {
            "text/plain": [
              "<AxesSubplot:xlabel='Start_Time'>"
            ]
          },
          "execution_count": 29,
          "metadata": {},
          "output_type": "execute_result"
        },
        {
          "data": {
            "image/png": "[encoded data removed]",
            "text/plain": [
              "<Figure size 432x288 with 1 Axes>"
            ]
          },
          "metadata": {},
          "output_type": "display_data"
        }
      ],
      "source": [
        "start_time_sundays = df.Start_Time[df.Start_Time.dt.dayofweek == 6]\n",
        "sns.distplot(start_time_sundays.dt.hour, bins=24, kde=False, norm_hist=True)"
      ]
    },
    {
      "cell_type": "code",
      "execution_count": null,
      "id": "1cfa759a",
      "metadata": {
        "id": "1cfa759a",
        "outputId": "383be77c-0b09-4a6a-d265-15688e13c681"
      },
      "outputs": [
        {
          "name": "stderr",
          "output_type": "stream",
          "text": [
            "/Users/poulomipal/opt/anaconda3/lib/python3.8/site-packages/seaborn/distributions.py:2557: FutureWarning: `distplot` is a deprecated function and will be removed in a future version. Please adapt your code to use either `displot` (a figure-level function with similar flexibility) or `histplot` (an axes-level function for histograms).\n",
            "  warnings.warn(msg, FutureWarning)\n"
          ]
        },
        {
          "data": {
            "text/plain": [
              "<AxesSubplot:xlabel='Start_Time'>"
            ]
          },
          "execution_count": 30,
          "metadata": {},
          "output_type": "execute_result"
        },
        {
          "data": {
            "image/png": "[encoded data removed]",
            "text/plain": [
              "<Figure size 432x288 with 1 Axes>"
            ]
          },
          "metadata": {},
          "output_type": "display_data"
        }
      ],
      "source": [
        "start_time_mondays = df.Start_Time[df.Start_Time.dt.dayofweek == 0]\n",
        "sns.distplot(start_time_mondays.dt.hour, bins=24, kde=False, norm_hist=True)"
      ]
    },
    {
      "cell_type": "markdown",
      "id": "5b36aca4",
      "metadata": {
        "id": "5b36aca4"
      },
      "source": [
        "The distribution of accidents by hour is different on weekends than on weekdays. On Sundays, peak occurs from 12:30 to 4:30 pm"
      ]
    },
    {
      "cell_type": "code",
      "execution_count": null,
      "id": "18d92030",
      "metadata": {
        "id": "18d92030",
        "outputId": "143e8a72-6a22-47c4-e545-2ec08b48ffb9"
      },
      "outputs": [
        {
          "data": {
            "text/plain": [
              "<seaborn.axisgrid.FacetGrid at 0x7f8bf0b1ed00>"
            ]
          },
          "execution_count": 31,
          "metadata": {},
          "output_type": "execute_result"
        },
        {
          "data": {
            "image/png": "[encoded data removed]",
            "text/plain": [
              "<Figure size 360x360 with 1 Axes>"
            ]
          },
          "metadata": {},
          "output_type": "display_data"
        }
      ],
      "source": [
        "sns.displot(df.Start_Time.dt.month, bins=12, kind='hist')"
      ]
    },
    {
      "cell_type": "markdown",
      "id": "12f47e94",
      "metadata": {
        "id": "12f47e94"
      },
      "source": [
        "Most of the accidents occur during the last quarter of the year"
      ]
    },
    {
      "cell_type": "code",
      "execution_count": null,
      "id": "8e08deeb",
      "metadata": {
        "scrolled": true,
        "id": "8e08deeb",
        "outputId": "0ac9ccae-88eb-4856-f79a-585757497b00"
      },
      "outputs": [
        {
          "data": {
            "text/plain": [
              "0          2016\n",
              "1          2016\n",
              "2          2016\n",
              "3          2016\n",
              "4          2016\n",
              "           ... \n",
              "2845337    2019\n",
              "2845338    2019\n",
              "2845339    2019\n",
              "2845340    2019\n",
              "2845341    2019\n",
              "Name: Start_Time, Length: 2845342, dtype: int64"
            ]
          },
          "execution_count": 32,
          "metadata": {},
          "output_type": "execute_result"
        }
      ],
      "source": [
        "df['Start_Time'].dt.year"
      ]
    },
    {
      "cell_type": "code",
      "execution_count": null,
      "id": "5882daac",
      "metadata": {
        "id": "5882daac",
        "outputId": "75207328-e92b-4f8a-b90d-725461a30e27"
      },
      "outputs": [
        {
          "data": {
            "text/plain": [
              "<AxesSubplot:ylabel='Start_Time'>"
            ]
          },
          "execution_count": 47,
          "metadata": {},
          "output_type": "execute_result"
        },
        {
          "data": {
            "image/png": "[encoded data removed]",
            "text/plain": [
              "<Figure size 432x288 with 1 Axes>"
            ]
          },
          "metadata": {},
          "output_type": "display_data"
        }
      ],
      "source": [
        "#Distribution of accidents over the years\n",
        "df.Start_Time.dt.year.value_counts().plot(kind='pie')"
      ]
    },
    {
      "cell_type": "markdown",
      "id": "57fcc344",
      "metadata": {
        "id": "57fcc344"
      },
      "source": [
        "The occurrence of accidents have increased over the years"
      ]
    },
    {
      "cell_type": "code",
      "execution_count": null,
      "id": "d4aca37a",
      "metadata": {
        "id": "d4aca37a",
        "outputId": "9eeda66f-de3c-4b8c-db31-5f2a0a2248a3"
      },
      "outputs": [
        {
          "name": "stderr",
          "output_type": "stream",
          "text": [
            "/Users/poulomipal/opt/anaconda3/lib/python3.8/site-packages/seaborn/distributions.py:2557: FutureWarning: `distplot` is a deprecated function and will be removed in a future version. Please adapt your code to use either `displot` (a figure-level function with similar flexibility) or `histplot` (an axes-level function for histograms).\n",
            "  warnings.warn(msg, FutureWarning)\n"
          ]
        },
        {
          "data": {
            "text/plain": [
              "<AxesSubplot:xlabel='Start_Time'>"
            ]
          },
          "execution_count": 33,
          "metadata": {},
          "output_type": "execute_result"
        },
        {
          "data": {
            "image/png": "[encoded data removed]",
            "text/plain": [
              "<Figure size 432x288 with 1 Axes>"
            ]
          },
          "metadata": {},
          "output_type": "display_data"
        }
      ],
      "source": [
        "df_2016 = df[df['Start_Time'].dt.year == 2016]\n",
        "sns.distplot(df_2016.Start_Time.dt.month, bins=12, kde=False, norm_hist=True)"
      ]
    },
    {
      "cell_type": "markdown",
      "id": "4fe3084a",
      "metadata": {
        "id": "4fe3084a"
      },
      "source": [
        "For year 2016, the number of accidents were very few only during the first quarter but it increased after that."
      ]
    },
    {
      "cell_type": "code",
      "execution_count": null,
      "id": "0420d4ed",
      "metadata": {
        "id": "0420d4ed",
        "outputId": "bc80de74-bbcd-4b66-9158-186b87ef90f2"
      },
      "outputs": [
        {
          "name": "stderr",
          "output_type": "stream",
          "text": [
            "/Users/poulomipal/opt/anaconda3/lib/python3.8/site-packages/seaborn/distributions.py:2557: FutureWarning: `distplot` is a deprecated function and will be removed in a future version. Please adapt your code to use either `displot` (a figure-level function with similar flexibility) or `histplot` (an axes-level function for histograms).\n",
            "  warnings.warn(msg, FutureWarning)\n"
          ]
        },
        {
          "data": {
            "text/plain": [
              "<AxesSubplot:xlabel='Start_Time'>"
            ]
          },
          "execution_count": 34,
          "metadata": {},
          "output_type": "execute_result"
        },
        {
          "data": {
            "image/png": "[encoded data removed]",
            "text/plain": [
              "<Figure size 432x288 with 1 Axes>"
            ]
          },
          "metadata": {},
          "output_type": "display_data"
        }
      ],
      "source": [
        "df_2021 = df[df['Start_Time'].dt.year == 2021]\n",
        "sns.distplot(df_2021.Start_Time.dt.month, bins=12, kde=False, norm_hist=True)"
      ]
    },
    {
      "cell_type": "code",
      "execution_count": null,
      "id": "ef99a139",
      "metadata": {
        "id": "ef99a139",
        "outputId": "cf64caca-1ad1-4f2a-f5bc-537eeef66ffc"
      },
      "outputs": [
        {
          "name": "stderr",
          "output_type": "stream",
          "text": [
            "/Users/poulomipal/opt/anaconda3/lib/python3.8/site-packages/seaborn/distributions.py:2557: FutureWarning: `distplot` is a deprecated function and will be removed in a future version. Please adapt your code to use either `displot` (a figure-level function with similar flexibility) or `histplot` (an axes-level function for histograms).\n",
            "  warnings.warn(msg, FutureWarning)\n"
          ]
        },
        {
          "data": {
            "text/plain": [
              "<AxesSubplot:xlabel='Start_Time'>"
            ]
          },
          "execution_count": 35,
          "metadata": {},
          "output_type": "execute_result"
        },
        {
          "data": {
            "image/png": "[encoded data removed]",
            "text/plain": [
              "<Figure size 432x288 with 1 Axes>"
            ]
          },
          "metadata": {},
          "output_type": "display_data"
        }
      ],
      "source": [
        "df_2019 = df[df['Start_Time'].dt.year == 2019]\n",
        "sns.distplot(df_2019.Start_Time.dt.month, bins=12, kde=False, norm_hist=True)"
      ]
    },
    {
      "cell_type": "markdown",
      "id": "902a316c",
      "metadata": {
        "id": "902a316c"
      },
      "source": [
        "For year 2019, there's a sudden dip in the number of accidents reported for month of November which is similar to the rest of the months, except for September through December"
      ]
    },
    {
      "cell_type": "markdown",
      "id": "ff66a4c0",
      "metadata": {
        "id": "ff66a4c0"
      },
      "source": [
        "### Start Latitude and Longitude"
      ]
    },
    {
      "cell_type": "code",
      "execution_count": null,
      "id": "3f8ee630",
      "metadata": {
        "id": "3f8ee630",
        "outputId": "3e47d666-5385-4d67-8a5a-a24541f5dec6"
      },
      "outputs": [
        {
          "data": {
            "text/plain": [
              "0          40.108910\n",
              "1          39.865420\n",
              "2          39.102660\n",
              "3          41.062130\n",
              "4          39.172393\n",
              "             ...    \n",
              "2845337    34.002480\n",
              "2845338    32.766960\n",
              "2845339    33.775450\n",
              "2845340    33.992460\n",
              "2845341    34.133930\n",
              "Name: Start_Lat, Length: 2845342, dtype: float64"
            ]
          },
          "execution_count": 37,
          "metadata": {},
          "output_type": "execute_result"
        }
      ],
      "source": [
        "df['Start_Lat']"
      ]
    },
    {
      "cell_type": "code",
      "execution_count": null,
      "id": "7ea9b864",
      "metadata": {
        "id": "7ea9b864",
        "outputId": "2526399f-e560-4d27-f651-1cc2671028b2"
      },
      "outputs": [
        {
          "data": {
            "text/plain": [
              "0          -83.092860\n",
              "1          -84.062800\n",
              "2          -84.524680\n",
              "3          -81.537840\n",
              "4          -84.492792\n",
              "              ...    \n",
              "2845337   -117.379360\n",
              "2845338   -117.148060\n",
              "2845339   -117.847790\n",
              "2845340   -118.403020\n",
              "2845341   -117.230920\n",
              "Name: Start_Lng, Length: 2845342, dtype: float64"
            ]
          },
          "execution_count": 38,
          "metadata": {},
          "output_type": "execute_result"
        }
      ],
      "source": [
        "df['Start_Lng']"
      ]
    },
    {
      "cell_type": "code",
      "execution_count": null,
      "id": "2d0b10c4",
      "metadata": {
        "id": "2d0b10c4"
      },
      "outputs": [],
      "source": [
        "#using 10% of the data\n",
        "sample_df = df.sample(int(0.1 * len(df)))"
      ]
    },
    {
      "cell_type": "code",
      "execution_count": null,
      "id": "c930c1e2",
      "metadata": {
        "id": "c930c1e2",
        "outputId": "4f79f0f5-69de-4ea2-9c7c-88475c350ec0"
      },
      "outputs": [
        {
          "data": {
            "text/plain": [
              "<AxesSubplot:xlabel='Start_Lng', ylabel='Start_Lat'>"
            ]
          },
          "execution_count": 40,
          "metadata": {},
          "output_type": "execute_result"
        },
        {
          "data": {
            "image/png": "[encoded data removed]",
            "text/plain": [
              "<Figure size 432x288 with 1 Axes>"
            ]
          },
          "metadata": {},
          "output_type": "display_data"
        }
      ],
      "source": [
        "sns.scatterplot(x=sample_df.Start_Lng, y=sample_df.Start_Lat, size=0.001)"
      ]
    },
    {
      "cell_type": "code",
      "execution_count": null,
      "id": "bd4bc8cf",
      "metadata": {
        "id": "bd4bc8cf",
        "outputId": "1a0612db-c538-4ff5-9a6e-7d23d07c74af"
      },
      "outputs": [
        {
          "data": {
            "text/plain": [
              "(40.10891, -83.09286)"
            ]
          },
          "execution_count": 41,
          "metadata": {},
          "output_type": "execute_result"
        }
      ],
      "source": [
        "latitude, longitude = df['Start_Lat'][0], df['Start_Lng'][0]\n",
        "latitude, longitude"
      ]
    },
    {
      "cell_type": "code",
      "execution_count": null,
      "id": "4760e722",
      "metadata": {
        "id": "4760e722",
        "outputId": "751fc624-76c7-47b8-eca4-8a706aa0a60f"
      },
      "outputs": [
        {
          "name": "stdout",
          "output_type": "stream",
          "text": [
            "512276     33.902794\n",
            "376328     25.702610\n",
            "1200664    32.495916\n",
            "2643114    33.435920\n",
            "2351530    33.661710\n",
            "270263     27.999845\n",
            "1615670    34.901988\n",
            "1380422    25.893096\n",
            "1973875    30.309594\n",
            "615351     32.755198\n",
            "533455     40.291101\n",
            "2327735    44.276900\n",
            "1921967    38.796141\n",
            "1725210    34.142750\n",
            "1638035    42.746240\n",
            "248964     33.972627\n",
            "2383960    32.779430\n",
            "930304     35.545469\n",
            "753419     39.420625\n",
            "1815014    25.702180\n",
            "1300288    30.128008\n",
            "939530     34.047045\n",
            "1838537    35.608373\n",
            "2773277    45.506011\n",
            "2647772    42.804420\n",
            "99849      40.722670\n",
            "43251      40.571560\n",
            "2278590    39.140650\n",
            "445314     27.996135\n",
            "2628540    42.013720\n",
            "2509186    40.699940\n",
            "195456     45.493070\n",
            "1498166    37.837807\n",
            "392302     28.549871\n",
            "1891110    32.826379\n",
            "2621171    27.585010\n",
            "1565437    33.884156\n",
            "1749632    35.035990\n",
            "313889     25.578724\n",
            "1131375    30.439729\n",
            "95406      40.521790\n",
            "1836379    37.663322\n",
            "2018781    29.965630\n",
            "1532802    41.534861\n",
            "988619     37.902665\n",
            "3083       37.701540\n",
            "1445848    43.156420\n",
            "420787     26.648315\n",
            "1039726    25.941422\n",
            "1736972    40.039297\n",
            "1970779    25.988424\n",
            "1813097    42.255964\n",
            "1052506    39.095224\n",
            "814858     28.451531\n",
            "2278967    33.564060\n",
            "2780460    33.842270\n",
            "2649844    29.785110\n",
            "1559707    36.866179\n",
            "1316225    38.345395\n",
            "2447373    34.030930\n",
            "2108039    29.396470\n",
            "306794     37.399339\n",
            "1305640    37.763452\n",
            "282990     44.274278\n",
            "1789134    34.936180\n",
            "1502887    36.645380\n",
            "471689     30.656629\n",
            "1188401    28.391543\n",
            "2422191    43.023810\n",
            "104806     33.882840\n",
            "1861812    30.481495\n",
            "2838225    39.800560\n",
            "2421655    34.030300\n",
            "2353235    34.114910\n",
            "39338      41.758100\n",
            "2357065    40.729380\n",
            "2250127    35.478150\n",
            "708647     41.780569\n",
            "802407     33.987525\n",
            "1191738    38.481696\n",
            "2016954    34.035698\n",
            "279498     39.087338\n",
            "2015880    35.779843\n",
            "1272994    32.729784\n",
            "1936361    43.206295\n",
            "818355     38.898671\n",
            "1324029    33.195027\n",
            "438711     30.731528\n",
            "476389     41.197446\n",
            "218160     32.747920\n",
            "2819094    34.221359\n",
            "528670     37.534478\n",
            "238369     36.385060\n",
            "2339569    34.240601\n",
            "1023195    33.975554\n",
            "2680429    38.496750\n",
            "1902727    32.197140\n",
            "974254     44.926882\n",
            "329668     35.261560\n",
            "1772832    29.675225\n",
            "Name: Start_Lat, dtype: float64\n",
            "512276    -117.235016\n",
            "376328     -80.291598\n",
            "1200664    -93.761703\n",
            "2643114   -111.916460\n",
            "2351530    -84.024680\n",
            "270263     -82.335711\n",
            "1615670    -82.237545\n",
            "1380422    -80.209338\n",
            "1973875    -81.873797\n",
            "615351    -117.103474\n",
            "533455     -76.881888\n",
            "2327735    -93.086080\n",
            "1921967    -77.170543\n",
            "1725210   -118.020747\n",
            "1638035    -73.865512\n",
            "248964    -118.234354\n",
            "2383960   -117.067498\n",
            "930304     -82.604488\n",
            "753419     -76.648297\n",
            "1815014    -80.335789\n",
            "1300288    -81.790469\n",
            "939530    -117.965528\n",
            "1838537    -90.114508\n",
            "2773277   -122.767625\n",
            "2647772    -83.727410\n",
            "99849      -73.580490\n",
            "43251      -74.328720\n",
            "2278590    -84.580690\n",
            "445314     -82.383772\n",
            "2628540    -86.532750\n",
            "2509186   -111.841504\n",
            "195456    -122.673770\n",
            "1498166   -122.273611\n",
            "392302     -81.244689\n",
            "1891110    -96.872709\n",
            "2621171    -82.545950\n",
            "1565437    -80.348913\n",
            "1749632    -90.794802\n",
            "313889     -80.394478\n",
            "1131375    -91.047646\n",
            "95406     -111.890980\n",
            "1836379   -122.105616\n",
            "2018781    -95.539610\n",
            "1532802   -122.242063\n",
            "988619    -122.515604\n",
            "3083      -121.867290\n",
            "1445848   -123.365071\n",
            "420787     -81.862725\n",
            "1039726    -80.192950\n",
            "1736972    -76.308084\n",
            "1970779    -80.165965\n",
            "1813097   -123.159634\n",
            "1052506    -94.487797\n",
            "814858     -81.400598\n",
            "2278967    -81.760250\n",
            "2780460    -84.247600\n",
            "2649844    -95.452100\n",
            "1559707   -121.770776\n",
            "1316225    -77.486703\n",
            "2447373   -117.328346\n",
            "2108039    -98.653010\n",
            "306794    -120.742610\n",
            "1305640    -77.460443\n",
            "282990    -123.061112\n",
            "1789134    -82.190993\n",
            "1502887    -76.907182\n",
            "471689     -87.904454\n",
            "1188401    -81.485421\n",
            "2422191    -85.075120\n",
            "104806    -118.349950\n",
            "1861812    -87.254844\n",
            "2838225    -75.477270\n",
            "2421655   -117.700870\n",
            "2353235   -117.978020\n",
            "39338      -89.634560\n",
            "2357065   -113.397860\n",
            "2250127    -97.516110\n",
            "708647     -73.750148\n",
            "802407    -117.347298\n",
            "1191738   -121.334749\n",
            "2016954   -118.098617\n",
            "279498     -78.075150\n",
            "2015880    -78.622209\n",
            "1272994   -117.170130\n",
            "1936361    -83.764528\n",
            "818355     -77.072337\n",
            "1324029   -117.366053\n",
            "438711     -81.661033\n",
            "476389    -111.998313\n",
            "218160     -83.716460\n",
            "2819094   -118.473310\n",
            "528670     -77.429999\n",
            "238369    -119.218043\n",
            "2339569   -118.840476\n",
            "1023195    -80.939775\n",
            "2680429    -90.344850\n",
            "1902727   -109.914382\n",
            "974254     -93.145405\n",
            "329668     -80.877437\n",
            "1772832    -95.542438\n",
            "Name: Start_Lng, dtype: float64\n"
          ]
        }
      ],
      "source": [
        "for x in df[['Start_Lat', 'Start_Lng']].sample(100).iteritems():\n",
        "    print(x[1])"
      ]
    },
    {
      "cell_type": "code",
      "execution_count": null,
      "id": "4a3d2ee9",
      "metadata": {
        "id": "4a3d2ee9",
        "outputId": "e3c08aa1-09c9-48c2-cb63-d05a3df4f26d"
      },
      "outputs": [
        {
          "data": {
            "text/plain": [
              "<zip at 0x7f8bf0c0e100>"
            ]
          },
          "execution_count": 43,
          "metadata": {},
          "output_type": "execute_result"
        }
      ],
      "source": [
        "zip(list(df.Start_Lat), list(df.Start_Lng))"
      ]
    },
    {
      "cell_type": "code",
      "execution_count": null,
      "id": "00a982dd",
      "metadata": {
        "id": "00a982dd"
      },
      "outputs": [],
      "source": [
        "from folium.plugins import HeatMap"
      ]
    },
    {
      "cell_type": "code",
      "execution_count": null,
      "id": "d43bd277",
      "metadata": {
        "id": "d43bd277"
      },
      "outputs": [],
      "source": [
        "#using a sample of the entire data\n",
        "sample_df = df.sample(int(.001 * len(df)))\n",
        "pairs = list(zip(list(sample_df.Start_Lat), list(sample_df.Start_Lng)))"
      ]
    },
    {
      "cell_type": "code",
      "execution_count": null,
      "id": "1004b392",
      "metadata": {
        "id": "1004b392",
        "outputId": "11841b30-97a6-48e0-ee3d-a8f7952ee095"
      },
      "outputs": [
        {
          "data": {
            "text/html": [
              "<div style=\"width:100%;\"><div style=\"position:relative;width:100%;height:0;padding-bottom:60%;\"><span style=\"color:#565656\">Make this Notebook Trusted to load map: File -> Trust Notebook</span><iframe srcdoc=\"&lt;!DOCTYPE html&gt;\n",
              "&lt;html&gt;\n",
              "&lt;head&gt;\n",
              "    \n",
              "    &lt;meta http-equiv=&quot;content-type&quot; content=&quot;text/html; charset=UTF-8&quot; /&gt;\n",
              "    \n",
              "        &lt;script&gt;\n",
              "            L_NO_TOUCH = false;\n",
              "            L_DISABLE_3D = false;\n",
              "        &lt;/script&gt;\n",
              "    \n",
              "    &lt;style&gt;html, body {width: 100%;height: 100%;margin: 0;padding: 0;}&lt;/style&gt;\n",
              "    &lt;style&gt;#map {position:absolute;top:0;bottom:0;right:0;left:0;}&lt;/style&gt;\n",
              "    &lt;script src=&quot;https://cdn.jsdelivr.net/npm/leaflet@1.9.3/dist/leaflet.js&quot;&gt;&lt;/script&gt;\n",
              "    &lt;script src=&quot;https://code.jquery.com/jquery-1.12.4.min.js&quot;&gt;&lt;/script&gt;\n",
              "    &lt;script src=&quot;https://cdn.jsdelivr.net/npm/bootstrap@5.2.2/dist/js/bootstrap.bundle.min.js&quot;&gt;&lt;/script&gt;\n",
              "    &lt;script src=&quot;https://cdnjs.cloudflare.com/ajax/libs/Leaflet.awesome-markers/2.0.2/leaflet.awesome-markers.js&quot;&gt;&lt;/script&gt;\n",
              "    &lt;link rel=&quot;stylesheet&quot; href=&quot;https://cdn.jsdelivr.net/npm/leaflet@1.9.3/dist/leaflet.css&quot;/&gt;\n",
              "    &lt;link rel=&quot;stylesheet&quot; href=&quot;https://cdn.jsdelivr.net/npm/bootstrap@5.2.2/dist/css/bootstrap.min.css&quot;/&gt;\n",
              "    &lt;link rel=&quot;stylesheet&quot; href=&quot;https://netdna.bootstrapcdn.com/bootstrap/3.0.0/css/bootstrap.min.css&quot;/&gt;\n",
              "    &lt;link rel=&quot;stylesheet&quot; href=&quot;https://cdn.jsdelivr.net/npm/@fortawesome/fontawesome-free@6.2.0/css/all.min.css&quot;/&gt;\n",
              "    &lt;link rel=&quot;stylesheet&quot; href=&quot;https://cdnjs.cloudflare.com/ajax/libs/Leaflet.awesome-markers/2.0.2/leaflet.awesome-markers.css&quot;/&gt;\n",
              "    &lt;link rel=&quot;stylesheet&quot; href=&quot;https://cdn.jsdelivr.net/gh/python-visualization/folium/folium/templates/leaflet.awesome.rotate.min.css&quot;/&gt;\n",
              "    \n",
              "            &lt;meta name=&quot;viewport&quot; content=&quot;width=device-width,\n",
              "                initial-scale=1.0, maximum-scale=1.0, user-scalable=no&quot; /&gt;\n",
              "            &lt;style&gt;\n",
              "                #map_7ee3a3ced9ab75fa1f3cc20dcac320b3 {\n",
              "                    position: relative;\n",
              "                    width: 100.0%;\n",
              "                    height: 100.0%;\n",
              "                    left: 0.0%;\n",
              "                    top: 0.0%;\n",
              "                }\n",
              "                .leaflet-container { font-size: 1rem; }\n",
              "            &lt;/style&gt;\n",
              "        \n",
              "    &lt;script src=&quot;https://cdn.jsdelivr.net/gh/python-visualization/folium@main/folium/templates/leaflet_heat.min.js&quot;&gt;&lt;/script&gt;\n",
              "&lt;/head&gt;\n",
              "&lt;body&gt;\n",
              "    \n",
              "    \n",
              "            &lt;div class=&quot;folium-map&quot; id=&quot;map_7ee3a3ced9ab75fa1f3cc20dcac320b3&quot; &gt;&lt;/div&gt;\n",
              "        \n",
              "&lt;/body&gt;\n",
              "&lt;script&gt;\n",
              "    \n",
              "    \n",
              "            var map_7ee3a3ced9ab75fa1f3cc20dcac320b3 = L.map(\n",
              "                &quot;map_7ee3a3ced9ab75fa1f3cc20dcac320b3&quot;,\n",
              "                {\n",
              "                    center: [0, 0],\n",
              "                    crs: L.CRS.EPSG3857,\n",
              "                    zoom: 1,\n",
              "                    zoomControl: true,\n",
              "                    preferCanvas: false,\n",
              "                }\n",
              "            );\n",
              "\n",
              "            \n",
              "\n",
              "        \n",
              "    \n",
              "            var tile_layer_497e549459dd88175a24af08e00336b9 = L.tileLayer(\n",
              "                &quot;https://{s}.tile.openstreetmap.org/{z}/{x}/{y}.png&quot;,\n",
              "                {&quot;attribution&quot;: &quot;Data by \\u0026copy; \\u003ca target=\\&quot;_blank\\&quot; href=\\&quot;http://openstreetmap.org\\&quot;\\u003eOpenStreetMap\\u003c/a\\u003e, under \\u003ca target=\\&quot;_blank\\&quot; href=\\&quot;http://www.openstreetmap.org/copyright\\&quot;\\u003eODbL\\u003c/a\\u003e.&quot;, &quot;detectRetina&quot;: false, &quot;maxNativeZoom&quot;: 18, &quot;maxZoom&quot;: 18, &quot;minZoom&quot;: 0, &quot;noWrap&quot;: false, &quot;opacity&quot;: 1, &quot;subdomains&quot;: &quot;abc&quot;, &quot;tms&quot;: false}\n",
              "            ).addTo(map_7ee3a3ced9ab75fa1f3cc20dcac320b3);\n",
              "        \n",
              "    \n",
              "            var heat_map_de997ae3a620cc0b59c3a2f07f8248ae = L.heatLayer(\n",
              "                [[39.106522, -94.811509], [40.275376, -111.719167], [38.794719, -77.078266], [38.900587, -76.939192], [47.642792, -122.376231], [36.605288, -119.772891], [41.02181, -73.72823000000002], [34.282096, -92.95986], [41.327658, -73.689938], [33.62518, -112.18571], [30.314597, -97.515456], [38.225141, -121.467024], [41.24316, -73.1093], [43.033127, -83.62988399999998], [27.767139, -82.637046], [32.314355, -95.267149], [25.768293, -80.263554], [33.97133, -117.3311], [35.064424, -80.763209], [34.06842, -117.97419], [34.127601, -117.918158], [42.913428, -74.15448], [29.731045, -95.363945], [35.094579, -80.935744], [40.81947, -73.453369], [33.80311, -117.975649], [30.544063, -81.779252], [38.139241, -122.256191], [25.6044, -80.35159], [33.587661, -84.508842], [33.915942, -84.289509], [38.94519, -76.77019], [32.67823, -96.6813], [34.261253, -118.331147], [42.801261, -78.814762], [37.55452, -122.048009], [37.089595, -121.718418], [40.03122000000001, -75.23810999999998], [41.309788, -72.91465], [41.81663, -88.16825], [41.154633, -73.24521800000002], [45.10619000000001, -93.39293], [34.235589000000004, -118.472957], [37.88263, -122.05207], [38.862107, -120.036932], [38.89199, -77.21715], [33.543917, -83.079835], [41.185298, -73.193226], [43.633684, -114.355997], [28.404189, -81.425009], [37.025524, -120.939356], [25.831024, -80.244848], [34.424719, -117.450991], [30.441041, -91.043344], [33.882594, -117.644683], [38.085792, -79.078459], [38.94089, -94.75175], [44.26979, -121.17155], [40.4678, -111.91123], [45.823713, -119.271666], [25.963024, -80.15508100000002], [25.701411, -80.355376], [25.689474, -80.34989200000003], [30.416842, -91.095035], [25.760878, -80.419588], [25.626035, -80.419921], [42.03613, -87.86737], [38.081628, -122.547394], [33.667681, -117.753657], [29.673724, -95.294514], [30.505449, -91.134281], [38.818913, -121.299973], [33.997066, -117.93118], [38.70276, -90.450279], [33.882612, -118.025977], [40.907045, -124.042242], [34.293399, -118.41304], [29.776288, -95.410695], [36.203937, -121.140296], [34.11373, -119.08302], [47.165251, -93.355373], [33.76665, -117.86622], [40.051735, -122.148981], [37.772403, -120.831094], [35.153351, -80.794064], [36.116889, -86.668762], [42.32883, -88.964313], [45.132656, -93.235055], [33.989711, -117.36011], [37.117783, -78.649385], [34.037523, -118.14635], [30.517818, -87.220814], [38.59951, -121.401421], [38.740307, -77.18996], [38.56738, -121.33321], [27.23656, -82.497502], [42.250375, -111.40081], [28.294418, -82.138664], [33.77394, -117.87188], [35.69625999999999, -118.426346], [43.050769, -120.810036], [38.02369, -121.97152], [35.87818, -78.83606999999998], [37.53422, -77.41634], [34.13797, -118.01425], [41.539718, -72.81648100000002], [33.817519, -117.831852], [32.74244, -96.817821], [28.489691, -81.45876], [25.90133, -80.243679], [47.2406, -122.37823], [38.363551, -122.712548], [38.7126, -76.877824], [33.791123, -117.879921], [30.458779, -84.276278], [42.33128, -83.03866], [39.302263, -76.443154], [40.387877, -74.17858199999998], [41.985889, -73.988258], [47.485452, -122.268165], [39.989119, -75.787246], [40.283178, -78.997937], [28.318977, -81.40277900000002], [45.21486, -118.02496], [44.341818, -120.562001], [27.99865, -82.31884000000002], [43.290872, -124.234668], [41.40042, -81.50844000000002], [42.277428, -71.797324], [32.323124, -111.027971], [39.262024, -76.706456], [33.706638, -79.396354], [33.78842, -118.09666], [25.942425, -80.310903], [40.605221, -111.976743], [33.559985, -112.202979], [25.818383, -80.321398], [40.10279, -95.214289], [41.667607, -72.66448000000003], [38.512704, -121.461049], [31.77804, -106.45442], [44.99474, -93.08953], [37.823649, -122.319136], [33.68765, -117.89473], [28.450995, -81.360869], [47.35844, -122.02031], [36.977936, -121.910097], [32.658316, -117.074624], [39.20266, -94.49252], [28.574892, -81.375421], [47.18106, -122.46507], [32.801051, -96.822692], [34.024347, -117.559965], [37.474935, -120.739646], [34.120135999999995, -117.837183], [42.49198, -83.02223000000002], [34.690915999999994, -118.137097], [44.701109, -122.075862], [29.616096, -95.498872], [33.75883, -83.81851999999998], [33.461696999999994, -112.114128], [25.869311, -80.208945], [28.217051, -82.666198], [39.93647, -83.00944], [40.76734, -73.69613000000003], [38.055766, -121.296037], [38.65067, -121.26424], [37.437962, -76.577292], [33.184490000000004, -97.10554], [33.770978, -84.39047], [33.451121, -82.073729], [26.065128, -80.230276], [40.768201, -74.022562], [38.809322, -76.966234], [38.628149, -120.208637], [34.02754, -118.27471], [42.004569, -88.13982299999998], [35.041385, -85.129972], [35.854214, -90.774589], [44.42066, -121.7893], [42.34077, -88.0534], [32.93036, -96.38486], [41.946015, -88.208201], [35.87088499999999, -78.621617], [34.237499, -117.287723], [32.21318, -110.9797], [25.840715, -80.33420699999998], [33.236517, -87.55468499999998], [34.024355, -117.559986], [25.729909, -80.317988], [38.80263, -77.60889], [43.333681, -123.008847], [40.170832, -77.564216], [32.73200300000001, -117.11121599999998], [35.368176, -80.78432600000002], [37.531174, -121.941472], [37.741912, -121.574492], [38.640023, -121.421679], [29.587072, -95.184012], [33.942694, -118.138039], [36.834287, -76.21064], [45.325008, -93.847564], [30.526523, -87.27467299999998], [42.94706, -83.72442], [43.1405, -77.54120400000002], [35.835304, -121.392376], [37.317155, -121.904994], [45.409657, -122.505738], [30.004725, -90.02637299999998], [37.77921, -121.18504], [34.125721, -78.103984], [34.179241, -117.184682], [40.05093, -111.73761], [25.587311, -80.331937], [32.996713, -96.805553], [33.876407, -117.545568], [39.25817, -112.10932], [26.5461, -81.876489], [44.371236, -117.296336], [30.103472, -90.490936], [25.963076, -80.15956800000002], [33.72528, -84.90601], [42.92008, -73.34939], [37.99873, -121.8196], [33.77639, -86.43008], [44.25871, -93.34473], [29.252395, -82.18997900000002], [34.037758000000004, -118.281458], [35.25009, -80.822182], [37.8925, -121.251157], [35.127140999999995, -118.411323], [38.449133, -122.151907], [41.25037, -73.00355], [41.787471, -93.570369], [33.868990999999994, -117.543855], [39.77078, -104.81002], [33.98237, -118.280407], [33.49703, -117.14845], [45.53392, -122.562919], [39.274116, -76.621173], [37.78341, -121.246281], [34.12048, -117.90758], [40.616444, -122.364746], [34.604366, -80.99454399999998], [38.852823, -76.974765], [33.79269, -117.8792], [25.755791, -80.200868], [35.22137, -80.86918], [37.80811, -122.36719], [34.013733, -118.145894], [41.80175, -88.16736999999998], [33.634301, -117.677219], [40.211689, -74.01486700000002], [41.042937, -111.954299], [37.63719, -77.57883000000002], [39.606324, -74.433971], [38.45930300000001, -121.398947], [41.517844, -73.97368900000002], [47.29328, -122.30565], [34.02754, -118.27471], [30.000078, -90.041207], [28.42075800000001, -81.369831], [46.11693, -95.70792], [41.762498, -83.480633], [32.216903, -80.975801], [34.754827, -92.262512], [32.92286, -96.84411], [33.968206, -118.369371], [36.13376, -86.831375], [33.174609999999994, -117.112869], [28.59739, -81.24475], [37.920757, -122.09689], [35.113811, -82.232424], [33.698281, -84.499246], [43.153532, -77.489999], [44.550966, -112.30191299999998], [36.983777, -121.473215], [40.500748, -78.408022], [40.960947, -120.502306], [38.85752, -77.37295], [29.943979, -90.084399], [34.066379, -117.471245], [30.320087, -81.525839], [42.361074, -83.054057], [34.872268, -82.71222900000002], [41.36623400000001, -72.918712], [32.920607000000004, -117.115341], [40.545126, -74.330917], [36.356653, -120.193781], [44.89145900000001, -93.439184], [34.031213, -118.27457], [39.243554, -104.878501], [40.524361, -124.149503], [40.47187, -74.2952], [45.40424, -122.7446], [27.499526, -81.489411], [25.692575, -80.303989], [39.521875, -122.112179], [36.664713, -78.133167], [41.7075, -71.82903], [42.37257, -83.05122], [33.9335, -117.00008], [35.079378000000005, -87.445409], [42.389139, -73.492364], [41.120605, -112.019709], [39.384056, -120.978569], [33.92831, -118.29544], [44.68726, -93.50051], [36.789643, -119.51063899999998], [30.035516, -89.980226], [33.968894, -117.849618], [38.550606, -121.42272], [32.787741, -117.115126], [28.61645, -81.47614300000002], [34.119984, -117.761614], [45.514866, -122.691503], [41.87559, -87.66181999999998], [41.23324, -73.06869], [47.280532, -93.663049], [30.570131, -84.393961], [27.443051, -82.45970600000003], [32.827857, -96.823998], [35.25234000000001, -80.97758], [37.70227, -121.74506], [29.78475, -95.68309], [34.065671, -117.323107], [44.778274, -117.810387], [34.06792, -118.03531], [41.21023, -111.970706], [41.574271, -87.474828], [40.636302, -111.914003], [33.84362, -117.95559], [25.964348, -80.246527], [27.822414, -80.554665], [35.251697, -92.38738], [28.597382, -81.244578], [30.474184, -91.116009], [34.0432, -81.11657], [41.06, -81.55774], [35.22379, -80.8785], [37.790054, -122.25824], [30.415409000000004, -91.062805], [32.92221, -96.81897], [40.753658, -73.83753399999998], [33.98923, -118.07019], [45.58047, -122.54358], [32.276726000000004, -90.189095], [33.908582, -84.22896899999998], [30.417646, -87.19816], [39.19638, -94.62089], [42.15379, -88.02806], [30.143474, -97.67536], [33.654927, -78.98956], [44.94117, -123.041919], [32.866403000000005, -96.881756], [26.210562, -80.137517], [37.84828, -122.02786], [32.649879, -117.064838], [27.478831, -82.56306], [25.813036, -80.23323], [40.740104, -73.789726], [33.854416, -117.790616], [39.6584, -104.9209], [48.094378000000006, -114.106525], [37.265356, -76.65145], [33.05677, -117.07129], [33.537858, -86.645253], [30.290669, -81.629873], [34.501776, -118.232517], [34.223796, -117.407015], [25.812356, -80.254751], [25.79689, -80.341382], [40.66335, -74.28664300000001], [32.48161, -93.750582], [38.97759, -121.387823], [34.036765, -118.303333], [41.2056, -95.94938], [33.945442, -118.36823], [25.867125, -80.205803], [39.22176, -94.589184], [40.64455, -74.28801999999997], [38.11499, -104.6728], [43.12157, -77.622619], [32.33873, -89.28629000000002], [39.086636, -122.79279], [39.2091, -119.804888], [28.603245, -81.172881], [38.25332, -85.75205], [29.957324, -81.444571], [29.991636, -81.465299], [45.358731, -122.616099], [45.22004, -123.09028899999998], [45.280684, -122.346725], [26.10627, -80.2785], [40.930283, -123.687322], [45.50056, -122.673359], [40.6903, -73.99865], [40.647364, -74.527612], [38.058932, -112.695227], [46.28808, -95.96693], [33.87633, -118.11862], [40.727423, -74.130753], [39.302718, -76.953211], [42.31913, -83.16642], [33.82195, -118.20705], [38.64306, -90.34688], [32.7522, -96.77048], [30.439645, -91.200141], [28.013151, -82.454549], [30.340903000000004, -91.727276], [39.96268, -86.00379000000002], [45.99307, -119.286314], [45.34724, -117.061471], [40.672574, -74.20061199999998], [29.972831, -90.053565], [38.432309, -77.41539], [25.632618, -80.414796], [33.670595, -117.889147], [34.576293, -112.365388], [30.056248, -95.4324], [28.915256, -82.608138], [41.09961, -80.76383], [40.45121500000001, -74.270898], [30.461431, -87.315825], [33.883777, -117.52868], [32.958984, -80.679446], [33.95103, -117.30333], [37.243341, -121.088336], [45.03739, -93.01223], [30.235481, -97.852416], [37.943494, -122.48053], [30.20945, -97.75575], [40.27553, -76.81744], [39.729447, -121.811978], [39.26671, -76.56184], [37.80752, -122.47605], [37.702907, -122.016788], [33.527489, -112.116163], [40.72367, -73.72484], [42.28339, -88.15597], [43.59014000000001, -116.27523899999998], [47.15894, -122.40637], [38.658517, -121.362994], [37.32222, -121.89884], [32.647587, -96.879733], [35.276681, -80.809239], [39.02971, -84.60951], [26.165964, -80.158568], [39.8638, -75.36825999999998], [26.667393, -81.914784], [27.517058, -80.44833100000002], [41.122909, -73.33536], [39.444149, -76.337753], [25.90976, -80.232373], [35.09088, -80.926486], [37.427392, -76.83726], [28.449945, -81.477939], [47.493981, -92.529482], [42.168099, -79.953255], [26.2113, -81.798144], [45.6607, -94.68877], [33.846608, -118.20538700000002], [39.343011, -120.337151], [33.72064, -78.929488], [33.917096, -118.223677], [44.89889, -93.40139], [41.6274, -88.02125], [39.459639, -76.304436], [38.91626, -94.76766], [37.61454000000001, -120.90646], [33.463076, -112.183444], [29.751566, -95.359568], [33.669509999999995, -112.16288], [39.853166, -85.163552], [37.787992, -122.393609], [35.20386, -80.78538], [25.810945, -80.313388], [25.699599, -80.382101], [33.549605, -112.199168], [45.431288, -118.360744], [35.092505, -80.797646], [33.906926, -84.476066], [26.05738, -80.162751], [37.643917, -122.094206], [33.985994, -118.067937], [40.526136, -74.32591], [38.057307, -78.495132], [45.58928, -123.535948], [40.602387, -74.014527], [33.698451, -117.861378], [41.245111, -73.10241500000002], [33.774429, -118.032914], [43.428442, -123.318689], [26.172243, -80.156988], [40.889735, -73.887774], [45.54045, -122.86342], [35.075451, -85.106502], [34.272198, -118.429036], [45.566509, -122.894359], [25.634615, -80.414811], [42.05839, -88.3154], [39.217371, -76.657193], [40.247973, -75.288987], [25.700661, -80.380507], [40.028141, -75.024026], [34.75954, -82.47439], [28.611755, -81.498136], [25.923274, -80.280652], [36.052261, -86.644855], [45.586093, -122.544355], [44.45132, -93.93983], [38.59762, -112.261079], [32.89801, -96.71428], [38.481714, -121.510659], [30.504237, -87.262676], [45.51157, -122.70535], [43.901799, -123.01936200000002], [28.401043, -82.55125100000002], [30.457104, -88.48069699999998], [34.043091, -117.284824], [34.052331, -118.259296], [32.252468, -110.840998], [33.885665, -117.550426], [38.503406, -75.865902], [41.896981, -112.535705], [39.642797, -75.82248100000002], [27.95593, -82.46595], [28.333047, -81.65066999999998], [40.439778, -74.428943], [39.831587, -77.697404], [47.546386, -122.325717], [25.823117, -80.206385], [42.34836, -83.10468], [42.27386, -87.98905], [29.705689000000003, -95.47839], [33.687595, -117.898858], [27.964839, -82.446154], [39.09619, -94.56775], [40.64109000000001, -121.472154], [33.929241999999995, -118.308985], [47.51343, -95.05173], [35.305229, -80.862701], [33.697562, -78.998012], [39.801427, -84.21936099999998], [40.208989, -76.20163000000002], [44.370799, -123.70968], [35.82189, -78.56913], [35.854381, -78.57347800000002], [27.447807, -82.545741], [42.381104, -83.03202900000002], [42.473112, -73.806034], [37.54343, -122.0203], [40.166525, -74.924127], [45.378536, -122.292732], [42.48892, -83.08129], [42.40631, -82.95625], [41.287706, -72.823136], [42.238836, -87.944287], [25.90488, -80.34971], [25.940327, -80.121453], [38.045916, -78.76479300000003], [38.492392, -121.799718], [30.502928000000004, -91.044694], [40.060642, -76.35991], [40.38528, -74.171329], [30.230059000000004, -97.864522], [29.853287, -81.66278100000002], [34.233852, -117.421684], [34.023348, -117.811733], [40.826012, -74.03019499999998], [38.799104, -121.210165], [43.653025, -116.354342], [34.10152, -82.545381], [34.221558, -81.414585], [25.895656, -80.20942], [40.95662, -73.83038], [30.424986, -91.15945], [34.04061, -117.724368], [39.784905, -86.032321], [40.833703, -75.299402], [25.971819, -80.268677], [37.78802, -122.19865], [33.56365, -117.825011], [34.08726, -117.646955], [38.431023, -122.7153], [36.840781, -121.529204], [25.764586, -80.303949], [33.055726, -81.375292], [38.98446, -76.33931], [33.746061, -117.45318], [42.893767, -78.893194], [29.971602, -90.056882], [41.15641, -112.0246], [42.94837, -85.7103], [30.59419500000001, -86.939835], [38.204859, -120.697489], [38.92039000000001, -104.98806], [28.524011, -81.31176500000002], [34.581813000000004, -82.686136], [40.633447, -74.01577900000002], [40.448971, -75.89699300000002], [39.235758, -76.61869200000002], [32.86938, -97.10094], [28.591134000000004, -81.380104], [34.136151, -117.410876], [33.87624, -118.10233], [34.249054, -118.426731], [34.167790999999994, -80.967768], [34.071486, -118.121656], [38.91895, -77.231059], [44.889709, -93.389043], [39.429066, -77.41895699999998], [37.98022, -122.06562], [28.391902, -81.374863], [40.385471, -79.825514], [28.667022, -81.8372], [30.638991, -88.09227299999998], [40.312562, -75.920345], [33.984886, -117.843103], [34.012337, -81.109235], [27.447554, -82.575405], [38.79304000000001, -77.02301999999997], [36.310725, -119.80773899999998], [35.33260300000001, -82.433068], [40.7508, -73.89741], [33.975013, -118.075033], [44.94543, -122.99015], [33.903585, -118.192846], [34.73518, -86.612394], [40.68326, -75.28891999999998], [35.20453, -80.848104], [26.297936, -80.16915300000002], [41.9017, -70.98084], [45.51374000000001, -94.2857], [40.85306, -73.96011], [41.074001, -78.744605], [35.136668, -80.783185], [39.903913, -75.270041], [37.598615, -122.42251], [30.226905, -97.769787], [43.011614, -77.446178], [35.24350300000001, -80.873622], [30.383375, -97.650225], [28.538964, -81.310634], [37.483908, -122.182039], [29.737843, -95.350994], [36.437914, -120.39634], [37.613378, -113.152817], [32.911378000000006, -96.8185], [33.899992, -117.473441], [36.836289, -76.06177199999998], [40.0299, -75.81189], [35.164371, -80.894787], [34.12097, -117.877475], [33.290383, -111.971784], [45.727554, -120.195075], [33.95783, -118.11184], [40.872485, -78.332514], [34.072178, -118.091685], [33.97992, -84.53735], [39.555186, -119.787855], [45.376989, -122.75454], [25.670897, -80.415666], [42.367948, -83.059219], [38.017405, -121.990481], [33.777808, -117.486925], [28.026835, -82.18695], [29.684089, -95.558115], [45.347404, -118.999556], [34.046147999999995, -118.269335], [39.706767, -111.818429], [33.71134, -84.21434], [37.818607, -121.993133], [36.586704, -121.830747], [36.117587, -95.851092], [37.365202, -121.815721], [35.71805999999999, -119.237134], [44.919698, -93.270242], [33.947376, -118.093228], [44.199892, -123.06047], [33.399915, -111.891004], [44.615233, -121.947791], [38.907898, -77.009186], [32.862476, -94.013492], [33.5387, -112.112266], [41.56737, -87.34266], [36.04265, -86.78211], [39.153575, -76.518836], [30.42698900000001, -81.656216], [34.083267, -118.298398], [37.119466, -76.451121], [38.419951, -121.393851], [41.021483, -74.223134], [30.532068, -87.221177], [33.697094, -81.789644], [45.54264000000001, -122.6773], [42.98211, -83.74221], [40.72537, -112.21992], [32.817394, -80.039253], [30.35899, -91.00807], [32.851009999999995, -96.76986], [36.36035800000001, -80.564237], [44.09993, -85.24635], [39.91248, -104.81894], [33.687669, -117.905905], [25.469361, -80.452489], [38.465679, -107.69038], [34.997534, -85.187794], [33.65294, -84.4975], [40.58785, -111.981086], [40.695114, -111.796264], [34.162353, -118.264763], [41.86175, -87.64454], [38.084524, -78.472412], [38.885452, -77.223586], [39.060956, -76.83675799999997], [33.79867, -118.290794], [35.595155, -84.519914], [35.28185999999999, -80.84787], [45.69392, -121.3218], [30.536595, -84.589458], [40.725148, -73.93239799999998], [33.385615, -111.899519], [39.022367, -77.142608], [37.783537, -122.178191], [44.562081, -123.061648], [25.903438, -80.292147], [39.882769, -104.98746], [40.479517, -78.394285], [36.83032100000001, -76.306218], [34.941233000000004, -118.931196], [38.76925900000001, -121.249545], [28.974496, -81.926549], [33.86315, -118.04432], [26.357652, -80.119579], [47.370755, -122.992097], [41.720878000000006, -78.68374200000002], [34.10675, -117.821804], [40.577438, -75.891537], [41.41573, -73.64159000000002], [37.74345, -121.34346], [42.70929, -123.36553], [39.0099, -76.902247], [44.058254, -93.489221], [33.914209, -118.102174], [34.150413, -118.280699], [25.716603, -80.431279], [33.975662, -118.384966], [30.336307, -97.755288], [34.038437, -118.266323], [30.20243, -97.63957], [40.119, -111.63835], [34.00354, -117.93046499999998], [34.311811, -117.475123], [26.211482, -81.78325500000003], [33.147322, -80.061533], [47.45863, -122.26462], [38.811532, -84.60181800000002], [34.056490000000004, -118.00291599999998], [40.70076, -73.99001], [45.50732, -122.67014], [43.210376, -75.457661], [35.806492, -80.186172], [45.20549000000001, -122.82855], [40.902753, -73.814832], [29.53566, -81.883747], [28.734025, -81.609892], [35.258031, -80.783346], [38.590385, -121.40543999999998], [40.362921, -111.788839], [30.481353, -81.639075], [42.379887, -88.062638], [36.559566, -121.91171], [34.098064, -118.314389], [45.228247, -93.987367], [33.772026000000004, -117.909168], [40.385162, -106.610383], [36.15491, -95.99331], [40.89769, -73.79689], [44.73054000000001, -93.28313], [34.831128, -82.143661], [37.979875, -121.263045], [45.276243, -122.568619], [39.38961, -76.53375], [35.974634, -79.06796999999997], [32.078821999999995, -81.24375699999999], [34.12973, -117.93438], [41.8153, -87.63048], [45.8248, -118.41799], [40.755747, -74.199675], [34.04243, -81.086702], [34.346431, -118.504223], [34.291688, -119.152683], [47.082536, -122.671986], [42.446874, -83.094709], [33.98346, -117.366563], [39.212325, -94.640404], [38.322923, -104.697353], [30.438753, -97.671959], [33.758938, -118.07885], [42.07777, -87.71011], [33.86098, -118.28513], [34.282226, -80.558084], [35.781416, -78.644961], [26.533881, -80.073605], [33.744631, -117.98743799999998], [25.587378, -80.429541], [33.856840000000005, -118.284809], [33.816293, -117.915455], [26.429031, -80.089887], [34.152217, -118.282552], [45.60276500000001, -121.138499], [25.956983, -80.294462], [36.825125, -120.439669], [43.886872, -121.38501], [30.006374, -90.291804], [37.971614, -120.236767], [34.784596, -112.45231], [29.652599, -95.309614], [39.351325, -94.759111], [28.582267, -81.28621700000002], [32.499913, -93.761017], [39.043241, -94.372444], [40.849469, -73.940617], [29.7715, -95.455967], [33.893156, -118.267779], [29.238586, -82.441255], [34.004554, -117.399714], [40.0067, -75.70322], [34.805647, -83.275798], [38.874045, -77.043504], [38.67310300000001, -76.876168], [35.900764, -78.606409], [44.94193, -123.05415], [25.705213, -80.28539], [36.061109, -96.004081], [34.12405, -117.51105], [37.546475, -122.0218], [45.547592, -122.548474], [34.266090000000005, -118.472023], [42.665718, -123.377658], [27.936367, -82.310249], [40.663849, -75.38165500000002], [33.503927000000004, -111.908829], [35.122242, -120.586935], [40.692028, -74.107472], [29.704902, -95.538976], [33.889167, -118.181671], [39.70142, -104.98742], [40.52440900000001, -74.25314200000003], [34.000743, -117.724081], [29.674241, -95.572068], [40.775997, -74.694291], [26.68521, -80.06889], [33.896065, -118.267652], [33.756662, -84.232252], [34.077420000000004, -117.205268], [26.492757, -81.805756], [34.025956, -117.333501], [25.96702, -80.165701], [40.017968, -75.35873199999997], [28.47258900000001, -81.39546899999998], [33.876551, -118.082915], [34.89063, -82.46885999999998], [38.79183, -76.66759], [34.426715, -117.380183], [41.294181, -111.96898], [30.388943, -81.55876500000002], [30.185903000000003, -97.816287], [37.987659, -122.52763799999998], [45.640563, -110.917968], [37.190541, -121.693282], [34.147562, -81.04326999999998], [34.580858, -84.702445], [45.521024, -122.665754], [43.730531, -122.399014], [35.20180900000001, -80.78635200000002], [38.75173, -77.04993], [29.002221, -82.041317], [30.238216, -97.798998], [30.30587, -97.744583], [43.028948, -77.628736], [33.86421, -118.32498], [33.883606, -117.639788], [28.412628, -81.42340899999998], [35.150183, -80.829813], [33.698211, -112.152267], [32.856759999999994, -96.90407], [35.882944, -78.62647700000002], [33.64305, -84.399], [27.487456, -82.562793], [34.084882, -118.30044], [40.207732, -76.140305], [38.749477, -121.593904], [33.813428, -118.167665], [45.55981, -122.25036], [34.124085, -117.302905], [35.462124, -78.456613], [33.49407, -81.546676], [29.773991, -95.419367], [38.66029, -77.27796], [32.236561, -90.072364], [41.190669, -112.048333], [32.851209000000004, -96.822773], [36.27525, -115.26451000000002], [33.919027, -84.48307199999998], [45.22695, -122.81367], [32.9237, -96.75621], [25.871806, -80.3461], [38.25629, -122.06433], [26.561959, -80.069612], [44.90153, -93.06547], [28.443721000000004, -81.642032], [32.837107, -97.029706], [31.7048, -106.31762], [38.275531, -122.048019], [35.383176, -119.119099], [25.631644, -80.41476800000002], [34.034938000000004, -118.17356399999998], [35.26318, -118.6259], [36.872981, -76.384173], [47.560471, -117.395902], [33.997916, -117.550132], [33.096604, -117.30599], [38.381627, -122.716126], [43.37264, -121.793408], [42.235232, -87.901557], [34.081691, -117.63016100000002], [27.28210300000001, -82.530664], [43.887707, -85.582185], [34.84728, -82.339669], [42.425609, -121.316294], [33.872972, -118.284786], [35.19854, -84.84855], [30.361184, -97.68656], [25.7843, -80.288273], [38.115537, -121.334034], [40.556792, -75.43475699999998], [36.114569, -86.72437], [41.34573, -73.65171], [45.80173, -118.51335], [37.56242, -122.304706], [39.917257, -82.92059], [33.723116, -117.783854], [40.889498, -73.09594], [34.0389, -118.43988], [38.647278, -121.577215], [39.297023, -123.108522], [38.59391, -121.44458], [36.43326, -120.39216], [43.020743, -83.693512], [30.428966, -91.060821], [37.45111, -77.29932], [25.685735, -80.401713], [39.265791, -76.563817], [29.485401, -98.591859], [25.763566, -80.35279], [34.134495, -118.356768], [38.221194, -85.651279], [38.678041, -120.873372], [41.752427, -77.237062], [46.205848, -113.251336], [43.13998, -77.58215], [37.647184, -122.095685], [41.847106, -88.030764], [40.754975, -73.962117], [25.507097, -80.403458], [38.792833, -121.295029], [40.467305, -76.340128], [37.56684, -77.44436], [45.401912, -122.572392], [33.865989, -117.997208], [26.312832, -80.117068], [38.793271, -77.05017600000002], [33.943011, -84.507838], [47.45383, -122.264018], [30.826703, -88.091479], [25.624727, -80.41442099999998], [44.411563, -75.785411], [27.44749, -82.526657], [28.423556, -82.18928199999998], [32.337327, -111.030502], [34.09723, -118.31378], [29.77068, -95.16908], [34.024961, -118.238215], [28.146259000000004, -82.738331], [35.554395, -120.713195], [39.14454, -75.8645], [40.243003, -75.498787], [30.471061, -91.168234], [33.970857, -117.330529], [40.22965900000001, -76.434882], [38.275295, -77.75725600000001], [32.77192, -117.140066], [42.43654, -71.25941], [41.123274, -78.60684499999998], [39.411467, -76.582206], [44.19145, -94.01268], [38.560477, -121.458932], [41.21941, -95.9534], [33.866504, -117.715941], [40.192166, -74.751635], [35.201193, -78.67154000000002], [34.293601, -118.470233], [38.580794, -121.383078], [28.514582, -81.39694399999998], [37.603428, -122.064142], [40.601393, -74.316856], [38.945376, -76.858412], [40.68312, -75.28143399999998], [26.6317, -80.06806], [28.525032, -81.416939], [36.036457, -86.582136], [42.351967, -87.939047], [41.166241, -73.21231800000002], [41.78419, -72.66055], [42.523114, -82.914742], [40.738431, -73.807579], [40.15976, -75.48138399999998], [27.710559000000003, -82.335222], [25.65237, -80.412384], [36.269318, -86.710614], [34.951254, -92.060676], [38.603198, -75.238574], [38.560722, -121.480876], [33.84598, -118.092296], [34.606036, -90.206622], [40.721578, -111.490077], [33.447133, -80.48071999999998], [38.01042, -122.01975], [28.435975, -81.406599], [44.76527700000001, -95.808452], [25.823879, -80.24225799999998], [39.73999, -104.8101], [33.505426, -117.659429], [35.15553, -80.793944], [29.933559, -90.068649], [42.211161, -122.699872], [33.639032, -117.732622], [42.39360900000001, -73.499689], [25.713355, -80.40697800000002], [30.290862, -81.63010200000002], [28.609264000000003, -81.41595600000002], [37.372196, -121.85056000000002], [34.392394, -118.472478], [39.165719, -122.964422], [32.577198, -80.933049], [28.449998, -81.469145], [25.879791, -80.356029], [32.432619, -93.710138], [37.015589, -76.453717], [41.71582, -72.59749000000002], [35.752368, -78.66803399999998], [33.748551, -81.532577], [38.014374, -78.527977], [44.063, -123.04904], [34.025504999999995, -118.470335], [34.025503, -118.172173], [40.779945, -73.92698100000001], [41.447086, -86.622198], [34.084672999999995, -118.300442], [42.39197, -83.0042], [33.85608, -118.02469], [40.04902, -74.99763], [29.52036, -98.494051], [37.35323, -121.812149], [32.669244, -96.924771], [42.74738, -83.49332], [43.09777, -70.75749], [33.518224, -111.458133], [38.606821, -121.384153], [42.40054, -83.07091], [40.71875900000001, -74.23559200000003], [27.799189, -82.678129], [43.674708, -83.955699], [45.73933, -123.26528], [27.999634000000004, -82.50519399999997], [33.710829, -117.188147], [36.12616, -115.18043], [34.072161, -118.09336299999998], [41.76599, -72.68786], [36.76354600000001, -119.833555], [33.698451, -117.861378], [33.607391, -117.442185], [45.79174, -118.29279], [45.58856, -117.9983], [28.067759, -82.750619], [36.921506, -119.793956], [40.98784000000001, -73.67647], [39.262477, -76.672298], [40.350289, -120.55798], [28.488786, -81.417497], [33.924562, -117.226274], [34.765473, -120.421877], [40.659781, -75.058486], [32.894171, -96.480292], [39.407541, -76.667952], [43.637984, -95.246368], [26.679673, -81.806415], [33.979735999999995, -81.303537], [45.83226, -95.14477], [34.415144, -119.858409], [27.223782, -81.884407], [39.979963, -76.75233], [26.54191, -81.79479], [28.559901, -81.37631800000003], [28.767625, -80.89303100000002], [35.558489, -82.63226], [34.168935999999995, -118.612829], [39.77993, -104.972689], [27.4237, -82.57552], [38.935474, -94.704389], [40.647778, -111.808165], [38.2568, -85.75816999999998], [28.181699, -82.74128], [37.147322, -80.339812], [38.728512, -76.88126199999998], [40.45653, -74.40088], [32.271962, -110.978999], [45.44623, -117.35248], [37.66503, -77.57235], [42.597109, -73.36927299999998], [26.710825, -80.138791], [33.870397, -118.100437], [32.627790000000005, -96.69694], [36.968854, -121.553303], [37.672059, -122.111305], [45.620755, -118.804203], [34.835575, -82.306147], [38.831383, -121.171467], [39.097305, -94.881793], [28.553143, -81.373752], [35.884134, -78.626819], [33.92473, -118.21001], [47.51738, -122.35921], [40.016239, -78.92474200000002], [47.79396, -122.212239], [35.60627, -97.53171], [33.56749, -84.32422], [32.765886, -96.594026], [39.94281, -75.11335], [33.798741, -84.249655], [30.004725, -90.02637299999998], [34.031361, -118.274005], [34.171096, -118.504854], [37.364098, -121.901972], [34.996928000000004, -85.39796], [39.927953, -75.146366], [37.942389, -78.11301800000003], [46.9955, -92.47084], [47.347739, -110.083322], [37.863905, -122.303047], [32.819069, -97.060164], [32.996804, -96.954061], [45.864182, -123.566103], [36.09228, -80.26996], [36.131876, -86.897488], [42.378934, -87.904538], [30.46353400000001, -84.312612], [30.47377, -90.79342], [35.408, -119.05027], [37.467313, -120.849052], [32.79894, -96.92105], [34.50669, -117.39954], [34.325433000000004, -118.503728], [33.62287, -112.20184], [37.634289, -122.41198500000002], [32.902347, -96.721176], [45.06664, -93.19233], [27.388809, -82.453011], [40.82322, -73.02514000000002], [36.78924, -121.66758], [47.97823, -122.155557], [25.869221, -80.20795799999998], [34.156271999999994, -118.244875], [33.96638, -118.164896], [37.969998, -122.059399], [25.706561, -80.285439], [30.471317, -97.671021], [39.743993, -105.251911], [33.57508, -111.85497], [32.306456, -81.86642900000002], [39.746529, -84.281082], [33.970118, -118.081946], [30.33398, -97.72129], [25.699987, -80.34409699999998], [33.751090000000005, -84.456419], [36.986998, -122.155303], [42.028174, -88.045548], [44.677346, -94.00958], [38.637651, -77.289209], [33.686704, -117.86729], [25.732116, -80.26189699999998], [34.2146, -118.35164], [28.368949, -81.43020600000001], [34.037242, -118.315947], [37.515636, -77.224059], [37.517141, -122.259882], [38.453699, -78.917108], [42.295984, -88.106627], [37.70069, -122.02557], [34.854817, -82.248297], [34.021513, -118.351459], [25.92487, -80.30417], [25.568758, -80.362812], [38.88226, -77.01543000000002], [33.52405, -117.66733700000002], [33.92758, -83.76977], [41.702799, -72.734848], [43.314274, -123.34731399999998], [37.96551, -122.507135], [38.559301, -121.476371], [39.933897, -75.081928], [25.749452, -80.390426], [37.414371, -121.981106], [45.90889, -119.24202], [28.598683, -81.307379], [42.43923, -83.0949], [34.061257, -117.24369], [40.008457, -76.12217199999998], [27.957135, -82.35624399999998], [43.21293, -123.35498], [32.348061, -93.713814], [44.505754, -88.01495899999998], [32.880015, -96.774907], [42.42991, -88.11792], [26.014923, -80.167252], [36.93264, -120.84353], [37.182569, -93.357337], [28.577677, -81.475347], [33.99427, -117.908642], [40.169425, -75.22215], [33.967118, -117.850063], [35.616468, -118.470131], [33.550797, -117.67294], [32.792190000000005, -96.60393], [45.098749, -93.188137], [25.623611, -80.414429], [39.874321, -75.09944], [25.712548, -80.382427], [34.150967, -118.69376], [45.719662, -123.921854], [42.06299, -88.07154], [35.069985, -85.289266], [33.851956, -117.815333], [39.791167, -84.214332], [41.0449, -81.43698], [33.935951, -118.047597], [47.4628, -122.248573], [41.84462, -87.94964], [41.79762, -87.63145], [38.628187, -121.346072], [40.054642, -76.461471], [28.551439, -81.413873], [33.913158, -118.180454], [37.607045, -120.974271], [47.674112, -117.222958], [33.853735, -117.908816], [34.661995000000005, -92.36776], [39.63541, -104.901324], [32.350107, -90.035575], [37.827354, -121.06483], [28.340811, -81.380617], [44.950955, -93.105666], [42.38782, -83.01626], [39.725385, -105.200771], [42.26908, -83.22256], [39.020472, -122.649101], [35.856972, -86.597164], [25.685045, -80.428016], [34.030274, -117.662004], [34.432852000000004, -94.411586], [32.158346, -110.997794], [34.085621, -117.544917], [45.205004, -93.387398], [38.166557, -77.506075], [32.742607, -96.794648], [38.116215, -85.65735500000002], [33.789305, -84.246831], [36.845417, -76.25275400000002], [32.66892, -96.95585], [35.367863, -119.043439], [41.86849, -71.05645], [26.390715000000004, -81.77286], [28.603976, -81.40508], [34.232378999999995, -118.473204], [29.60875900000001, -98.506994], [27.46244, -82.56535600000002], [25.698141, -80.38216800000002], [33.929709, -117.421683], [39.309334, -120.910132], [35.84897700000001, -78.58031], [34.087379, -80.891085], [35.277922, -80.79660799999998], [32.879992, -96.804063], [46.008537, -112.625022], [40.7391, -74.06774], [43.691828, -95.481859], [41.439889, -112.056699], [40.30183, -111.72563999999998], [34.066418, -117.251506], [40.075447, -75.35700600000001], [33.81412, -118.17021], [40.69987, -111.87346], [39.977241, -75.199915], [42.45004, -85.676047], [30.405547, -87.275238], [41.817991, -86.273342], [44.89034, -93.3995], [39.07236, -77.16216999999997], [37.424369, -76.832274], [44.88339000000001, -93.2958], [32.206843, -110.962354], [41.194578, -73.195027], [40.67164, -74.35759], [42.43676, -123.31028], [33.656714, -86.596389], [34.067887, -84.61180999999998], [32.839459999999995, -97.32084], [42.37498, -83.21669], [36.184657, -86.384087], [34.035628, -118.367077], [37.793505, -122.263985], [28.542976, -81.204746], [40.06298, -82.90516], [41.70236, -73.9412], [41.71334, -87.6045], [44.83714000000001, -123.0085], [35.794597, -78.70369699999998], [33.59621, -112.20273], [42.911726, -83.725787], [40.732187, -74.12942199999998], [32.774188, -96.915482], [44.596107, -121.133624], [40.76878, -73.94906], [40.337527, -103.931704], [37.708844, -121.08103], [28.293945, -82.709113], [38.93932, -76.062524], [34.134532, -117.652834], [27.967951, -82.74854], [42.49484, -122.92549], [37.135357, -77.87824499999998], [32.77367, -96.762123], [41.93886, -87.70761], [33.964197, -117.325265], [42.68417, -73.788493], [35.152627, -89.886543], [26.083752, -80.16872], [40.51384, -74.40446999999998], [32.785311, -117.207285], [40.78111, -73.94405], [35.247505, -82.260715], [34.035378, -81.109008], [38.41209, -122.74138], [41.140956, -112.064456], [38.547319, -76.98536800000002], [40.200913, -75.480913], [28.171947, -80.687424], [39.35363, -84.26756], [35.038444, -85.281482], [37.85515, -122.02963], [28.4211, -81.42886], [39.825511, -85.677126], [25.687143, -80.362775], [38.69643, -90.46123], [41.528795, -73.919728], [44.62969, -123.05773], [39.013556, -77.045263], [38.877593, -77.271226], [40.80907, -73.188488], [33.974641, -118.287663], [30.559287, -87.7061], [27.71257, -82.33459], [35.436685, -77.77009100000002], [35.087063, -81.929191], [41.06494, -81.43611999999997], [28.49336, -81.43441999999997], [37.882434, -122.308089], [43.65002, -70.33115], [25.866705, -80.24238199999998], [30.479453000000003, -87.207208], [32.752204, -117.133837], [37.434936, -121.075937], [34.1177, -117.848211], [32.774284, -96.915964], [45.787805, -118.149986], [33.767133, -117.92024], [39.405455, -77.431647], [40.806537, -78.06197], [38.034023, -121.96413], [33.806627, -117.83172], [42.868654, -73.849905], [30.364813, -97.743082], [39.631327, -121.528586], [38.559961, -121.45686], [41.10776, -73.799382], [41.85984000000001, -88.02702], [39.757149, -84.183766], [33.61886, -84.43324], [44.687243, -95.544801], [34.07242, -118.072921], [34.27636, -118.5329], [28.49509, -81.329915], [25.692252, -80.41565200000002], [41.667891, -72.665301], [29.600074, -82.37598299999998], [36.15307, -86.76472], [33.17624, -86.77918000000004], [25.456886, -80.480789], [30.392659, -90.002812], [38.663548, -76.874622], [34.860953, -82.458799], [47.462084, -122.256464], [28.447096, -81.364511], [45.440139, -92.989003], [38.455476, -81.929282], [39.205516, -119.789761], [34.392544, -118.472767], [30.277846000000004, -97.743022], [42.47448, -83.11053000000003], [32.712414, -97.32069], [38.5229, -90.39564], [26.68816, -81.90141], [28.486787, -81.42019300000003], [33.679548, -112.402417], [38.690384, -121.38183], [42.47603, -83.11779], [26.307632, -80.118572], [34.64134, -117.219969], [34.222559999999994, -118.37041], [37.991536, -122.308649], [42.976933, -85.653412], [44.785971, -123.90241], [36.295341, -120.267902], [37.641338, -122.091525], [38.05075, -122.13589], [30.518053, -91.146611], [34.578313, -117.969504], [32.323233, -111.047771], [38.85003, -77.832994], [42.37498, -83.21669], [34.01602800000001, -118.173202], [34.759221000000004, -82.308373], [36.808308, -76.357072], [35.381581, -119.065405], [39.7042, -86.09976], [37.699769, -122.471284], [35.96991699999999, -78.849136], [37.433789, -120.716817], [41.592239, -109.185383], [25.763071, -80.30492199999998], [34.172009, -118.471597], [34.140733000000004, -118.155188], [40.72012700000001, -73.404754], [33.686409999999995, -117.76586], [40.987608, -73.674768], [29.193688, -82.053741], [33.63297, -83.97421], [30.354478000000004, -91.093397], [44.952129, -93.180286], [41.589592, -95.950244], [38.22285, -85.57436], [34.141281, -118.733603], [39.984524, -75.825466], [30.56674000000001, -87.03534], [43.97395, -123.01083], [34.228449, -118.257095], [40.162697, -75.06475400000002], [26.524734, -81.935633], [36.296849, -94.170874], [33.43954, -111.96676], [33.977135, -118.386517], [36.155754, -79.725891], [38.621336, -77.296739], [38.008819, -122.02712], [30.442967, -91.05754], [34.140390000000004, -118.016873], [39.587194, -77.643029], [30.250478, -97.806247], [43.730546, -122.399017], [28.688407, -81.38861999999997], [40.105838, -74.99953199999999], [34.184442, -118.905426], [38.568595, -121.510031], [35.27963, -80.79097], [38.873611, -121.131546], [33.87051, -84.47693000000002], [35.376224, -119.145229], [40.298669, -121.050693], [42.498374, -121.87899099999998], [35.81706, -78.599531], [38.691872, -121.25943], [30.580453, -91.127253], [40.84752, -73.92954], [44.39187, -92.06359], [32.927516, -96.820696], [25.941566, -80.306811], [41.47258, -81.85714], [34.08559, -117.637044], [41.354226, -75.363959], [40.845012, -73.920405], [38.613971, -77.301017], [44.77719, -93.51158], [36.159391, -86.780963], [38.242732, -77.501775], [29.990943, -90.059927], [34.373356, -117.752162], [36.706718, -119.574307], [33.790121, -117.260409], [30.215767, -97.663797], [36.129861, -86.839136], [38.93815, -94.39794], [25.63402300000001, -80.39736500000002], [38.410813, -77.429817], [39.455949, -77.309224], [41.57765, -87.56348], [34.181975, -93.073092], [46.21548, -123.86201], [45.307768, -123.835449], [27.89454000000001, -82.7872], [38.663288, -77.017189], [44.95177, -93.17339], [46.270267, -95.652342], [39.919477, -75.088104], [40.809402, -74.449758], [38.247338, -85.700358], [33.920403, -84.305227], [37.450993, -120.701276], [37.906981, -122.057826], [37.768352, -122.1735], [33.981563, -118.188607], [36.086283, -86.763061], [28.57543, -81.18056], [36.897022, -81.345686], [29.83191, -95.571818], [37.456247, -122.42668700000002], [40.291553, -85.368114], [44.97488, -122.99042], [33.852189, -117.790661], [44.096192, -123.10864], [34.410235, -117.399176], [33.495105, -112.161877], [40.709015, -74.056412], [47.504847, -122.605493], [33.966666, -81.009087], [34.098834000000004, -80.931738], [39.78009, -104.93226], [29.950672, -90.065155], [34.0264, -117.811974], [42.09252, -76.03814], [40.307389, -106.507741], [40.67322100000001, -73.733807], [35.985311, -83.91240400000002], [38.727717, -76.990359], [40.012582, -75.72583], [25.625727, -80.429703], [28.087801, -81.967345], [35.741404, -78.67120899999998], [42.954485, -78.696836], [34.276388, -118.532234], [37.767963, -92.42687], [26.351635, -80.118227], [33.712957, -112.11084], [36.109691, -95.886652], [44.062696, -123.032637], [40.821603, -73.938985], [43.169784, -124.377322], [33.90465, -117.459886], [32.564840000000004, -96.82258], [38.55784600000001, -121.448262], [34.26034, -118.43873], [26.232381, -80.126014], [40.713347, -74.275163], [35.2643, -118.658341], [25.715767, -80.36091], [38.013977, -121.876289], [38.89576, -77.01426], [43.654917, -116.354148], [44.86378, -93.2464], [41.765457, -72.648842], [45.0866, -123.456758], [33.82301, -118.0814], [40.683699, -78.80847800000002], [42.47527, -95.280264], [36.863093, -76.195482], [27.44771, -82.57539], [39.291653, -121.667289], [45.544853, -122.676348], [34.012695, -117.437721], [25.78784, -80.209907], [38.91393400000001, -77.224174], [32.864441, -96.804029], [32.82405, -96.88112], [37.351636, -121.914338], [33.813428, -118.167665], [33.945384999999995, -118.378458], [28.452939, -81.400159], [45.676678, -121.282185], [44.965815, -93.260527], [38.559364, -121.51398600000002], [28.454192, -81.33199], [39.441207, -77.493706], [26.67838, -80.06952], [35.498145, -93.666096], [25.902089, -80.38736899999998], [43.051021, -74.329832], [25.882801, -80.241012], [36.310662, -121.23188799999998], [25.48444, -80.48156], [32.199838, -81.029206], [34.685445, -82.863062], [47.464758, -122.298814], [30.320796, -81.70989], [37.919515, -81.270257], [33.75567, -111.99051], [39.09119000000001, -77.522739], [42.308885, -122.845765], [40.710127, -73.955975], [42.052875, -74.262316], [27.043245, -82.307185], [33.916749, -117.438709], [38.965877, -78.438059], [28.53528, -81.39333], [41.572017, -72.77100899999998], [25.98188, -80.229954], [32.484646999999995, -93.77704], [35.037878000000006, -77.00721800000002], [25.747524, -80.33769000000002], [35.76651, -78.73541], [34.755035, -82.556333], [35.96678, -83.93160999999998], [39.782964, -86.14650400000002], [25.747992, -80.310666], [40.26984, -75.6148], [34.911557, -81.90026], [43.382745, -123.33828], [39.017257, -77.376464], [35.43792, -80.86841], [33.881377, -117.648877], [26.278486, -80.25017], [36.162641, -95.944254], [42.265831, -73.875557], [33.581907, -112.117091], [40.755764, -73.838321], [33.614591, -117.707741], [34.813140000000004, -86.5716], [28.33729000000001, -81.37875], [45.39661, -122.48445], [28.357818, -81.504859], [38.461014, -121.412674], [45.860681, -94.766196], [28.415118, -81.474384], [37.69837800000001, -122.148914], [29.728945, -95.460407], [34.201458, -112.763017], [43.710511, -91.559468], [44.180563, -121.24461200000002], [39.960913, -122.178322], [33.989215, -118.241834], [40.00649, -76.61324], [38.699609, -77.442615], [38.663986, -121.230776], [33.888757, -118.194579], [34.5287, -82.83957], [40.786238, -73.388918], [40.609942, -111.905955], [39.394279, -76.544526], [26.00821, -80.28350999999998], [39.375, -119.753571], [34.24232, -118.41962], [32.723628999999995, -96.614997], [33.638421, -117.343758], [29.83417, -95.319213], [45.080745, -94.512539], [34.196238, -79.65535799999998], [43.946903000000006, -123.012573], [34.032990000000005, -118.13831], [38.837304, -77.446698], [40.077462, -76.261422], [37.621437, -122.07731499999998], [47.507275, -121.889694], [34.621299, -120.189195], [39.528712, -119.72174], [40.668728, -112.283492], [24.711812, -81.092147], [33.989034000000004, -118.06487], [28.545345, -81.20376800000003], [38.660791, -121.334297], [44.861185, -93.318921], [45.555979, -118.462904], [29.73665200000001, -95.573501], [29.73522, -95.588705], [34.274888, -118.565327], [32.367922, -86.13396], [25.76972, -80.333946], [34.122427, -117.996609], [28.17205, -80.671483], [41.360342, -86.311717], [27.98136, -82.36], [40.383167, -123.022898], [38.861301, -77.002527], [32.47915, -84.93751999999998], [29.961023, -90.020928], [30.183402, -93.571404], [39.056446, -122.781792], [32.66469, -97.33183], [33.75, -117.453676], [37.50552800000001, -77.659428], [25.62762, -80.341566], [45.840473, -112.055201], [42.847643, -85.633462], [44.182482, -94.030126], [32.195408, -110.823768], [39.06184, -77.46214], [34.571379, -111.27104], [25.838847, -80.370192], [35.020643, -85.287201], [36.660455, -121.622552], [42.88362, -85.6259], [34.918381, -119.412316], [28.606096, -81.386698], [27.713188, -82.409918], [39.797897, -78.944826], [32.964488, -117.247134], [28.026940000000003, -82.16031], [39.06333, -121.51481], [34.315256, -84.89510600000001], [34.439389, -118.62287], [37.939922, -121.246103], [29.77339000000001, -95.234566], [33.90497, -117.45936], [40.38753, -74.17616], [42.387796, -122.38174], [29.6963, -95.29152], [40.728399, -73.928471], [33.913377000000004, -118.125], [45.124008, -93.336015], [36.279913, -86.802603], [30.406576, -91.099596], [38.609265, -120.852809], [43.609274, -122.057871], [34.09463, -118.31081], [32.718994, -117.101727], [27.349465, -81.425611], [46.332489, -94.257491], [40.743674, -114.02558799999998], [36.813491, -76.27832], [25.850268, -80.180396], [35.814349, -78.64434200000002], [32.946891, -117.242994], [34.071931, -118.266914], [39.940743, -76.198177], [44.965755, -93.279326], [33.429191, -111.905443], [40.6908, -73.58076], [33.46224, -112.26], [43.69053, -124.13808], [42.891534, -87.936699], [42.17014, -88.01897], [37.8929, -122.30734], [43.38944, -123.337315], [33.935246, -118.092721], [40.791968, -73.05168], [37.77847, -122.16897], [29.753682, -95.489912], [25.926885, -80.227972], [36.235111, -86.758313], [25.683394, -80.41639599999998], [25.683259, -80.343726], [42.49144, -83.03487], [34.068488, -117.807702], [34.087143, -117.683056], [39.91557, -82.88062], [36.325707, -119.11696200000002], [32.460348, -86.387985], [30.469595, -86.562463], [32.462425, -93.724724], [36.923734, -120.022147], [33.814651, -84.391869], [34.652305, -83.253834], [38.920966, -77.396911], [35.3058, -80.7496], [33.835147, -117.247592], [25.577465, -80.370795], [38.550273, -121.335457], [29.965542, -90.110067], [34.49094, -118.20267], [39.665762, -121.743696], [39.19325, -94.58994], [39.18492, -94.59638], [47.43112, -122.27224], [41.87419000000001, -87.66659], [29.588238, -81.607794], [39.796269, -75.886702], [28.553, -81.39331999999997], [34.158031, -119.221617], [34.480258, -118.292659], [33.774829, -118.007686], [37.826521, -122.277336], [32.7485, -97.303454], [41.42688, -72.6356], [34.128313, -117.961976], [34.08722, -117.66267], [34.15558, -118.26829], [34.178563, -118.88176], [40.96923, -73.77409], [40.057942, -76.321202], [40.81761, -73.95316899999997], [37.981928, -120.306051], [34.069274, -117.607516], [37.326341, -113.693219], [34.060520000000004, -81.04902], [38.678076, -121.202264], [43.015319, -83.51756999999998], [33.29075, -117.225196], [29.561158, -95.129445], [37.848263, -121.236875], [33.961684000000005, -118.36929], [28.567962, -81.288762], [41.8153, -87.63048], [33.986109, -118.071495], [38.933707, -77.066395], [36.865171, -76.195324], [28.879655, -82.092987], [34.41475, -118.579145], [25.859022, -80.208134], [27.821134000000004, -82.638561], [41.47192, -81.84044], [39.320014, -77.73100699999998], [30.021697, -89.956549], [33.823218, -118.207005], [36.055094, -119.232382], [39.11209, -94.564874], [44.67425, -93.6263], [39.95191, -86.01161], [38.415937, -75.212827], [39.73131, -86.2418], [38.666468, -121.22571299999998], [29.68045, -95.38746], [30.049482, -95.240883], [35.98097, -78.887], [39.734999, -75.634788], [44.250054, -121.487556], [34.07718, -117.20887], [33.96881, -118.16475], [36.156767, -86.77534200000002], [25.685499, -80.41393199999997], [28.282589, -81.446708], [38.455476, -81.929282], [25.890398, -80.183704], [38.812779, -76.060137], [38.600042, -121.440146], [38.663628, -121.30855], [40.947283, -92.226979], [40.853651, -122.32927], [32.909152, -96.698232], [34.23487, -118.41216], [34.105301000000004, -118.08502], [34.02902, -118.39637], [39.881268, -75.102953], [38.891326, -77.165607], [30.435673, -84.325363], [44.976235, -93.527415], [40.601029, -75.55682900000002], [33.945646, -118.031297], [25.894635, -80.211182], [32.82589, -96.88289], [32.971857, -111.728102], [45.27528, -93.73631], [34.0031, -118.06523], [34.832636, -110.143958], [34.584346000000004, -110.402005], [40.810799, -74.180364], [37.054318, -120.364923], [33.882361, -117.457355], [32.787997999999995, -117.160531], [41.660767, -78.811036], [42.2749, -71.79639], [32.942012, -97.313218], [40.00181, -75.194946], [36.994146, -77.773402], [35.40269, -97.29646], [40.166342, -75.289158], [30.167196, -81.631599], [34.35119, -119.0551], [37.227076, -93.369035], [25.8502, -80.182923], [43.93153, -91.87422], [35.25139, -80.856257], [40.032323, -76.507083], [39.29972, -123.28732], [37.823008, -122.291602], [33.865696, -117.542336], [30.320633, -81.69240500000002], [44.395798, -93.224724], [38.120628, -122.635571], [32.792505, -96.68388], [40.16620800000001, -122.275354], [32.83206, -117.11834], [37.800237, -85.750123], [42.378419, -83.220759], [41.959899, -72.591899], [30.099428000000003, -95.435397], [37.329029, -121.841804], [28.64201, -81.457531], [25.714569, -80.414261], [42.15038, -70.843616], [38.74098, -121.27272], [34.022608, -117.552949], [30.395423, -86.582864], [42.24057, -87.979716], [34.944838, -118.932055], [39.872666, -76.228751], [37.74199, -121.57396], [34.201713, -118.473516], [32.824348, -87.986809], [28.41624, -81.635911], [42.482682, -73.67791], [37.84367, -122.2546], [32.198663, -86.415592], [38.61006500000001, -121.383059], [34.320281, -119.147943], [37.319945, -121.901475], [40.88887, -73.89023399999998], [34.033319, -118.124219], [33.89838, -118.37026000000002], [41.69299, -71.47666], [37.418683, -120.813233], [32.134223, -110.933544], [38.965991, -94.723629], [36.16799, -86.76581], [28.450195, -81.338882], [35.761114, -119.344481], [37.253826, -121.8809], [42.01806, -88.234911], [28.321487, -82.438536], [32.838016, -96.875435], [33.90965, -118.1049], [25.915793, -80.37971999999998], [39.089244, -94.591563], [40.71172, -111.9039], [41.859383, -87.918966], [33.018608, -96.983068], [26.07641, -80.16853], [38.593192, -121.504485], [34.066714000000005, -117.235028], [31.956814, -85.1203], [33.960901, -117.313601], [37.581756, -121.322809], [33.20535, -117.383991], [25.924655, -80.315304], [38.866344, -77.219962], [25.581185, -80.367202], [30.33228, -81.67234], [32.914891, -96.866675], [45.1424, -93.26669], [29.927548, -95.412399], [30.403731, -86.87134499999998], [27.0499, -82.3976], [33.927917, -118.25428], [33.802527000000005, -117.232553], [34.115957, -118.753493], [34.068483, -117.973942], [39.07895900000001, -122.078822], [45.59516, -93.601], [26.602331, -80.06890600000001], [30.520437, -97.688831], [35.20913200000001, -118.815304], [35.713347, -78.640546], [45.678492, -122.55255], [32.088713, -110.959258], [33.876718, -118.156682], [39.185067, -94.596694], [39.97739, -75.594835], [33.549059, -111.87902], [34.259737, -118.321348], [30.64316, -87.18044], [45.513681, -122.66586], [34.14674, -117.249485], [28.452882, -81.47081700000003], [25.928288, -80.309653], [38.452741, -121.351852], [34.02488, -117.33473], [37.48441, -122.184335], [30.21859000000001, -97.749859], [38.646565, -121.502797], [42.390797, -122.435853], [42.187331, -121.768333], [39.877795, -123.718949], [39.422024, -120.035065], [36.697626, -119.756537], [34.899314000000004, -80.95630200000002], [41.076765, -111.97952], [38.540304, -77.34916199999998], [34.323567, -118.460295], [40.743108, -73.832963], [42.35988, -72.63727], [32.221629, -110.92508], [30.178123, -81.62332099999998], [40.342302, -79.966986], [34.184499, -118.925802], [30.474346, -83.884037], [27.11093, -82.34300999999998], [38.343802, -77.497123], [39.267185, -76.664861], [42.338452, -123.579391], [45.42013, -122.74398899999998], [28.591609, -81.41811700000002], [40.012925, -85.767463], [33.942363, -117.278136], [25.72777, -80.399524], [33.838414, -81.09915], [27.96541, -82.42051500000002], [27.102767, -80.257948], [38.888431, -121.016133], [34.062606, -81.137434], [42.874922, -85.785895], [25.890143, -80.189184], [39.03958400000001, -94.346577], [36.121383, -86.750417], [40.339949, -74.627771], [35.946439, -78.537492], [34.22554, -117.13342], [26.85807, -81.98812], [33.606348, -117.694076], [33.853790000000004, -117.9152], [26.3082, -80.11865999999998], [41.457971, -77.129355], [33.495672, -82.611275], [44.94067, -93.34808], [33.537396, -112.258996], [36.10877, -86.81208199999998], [35.035546000000004, -80.846388], [33.954929, -118.088818], [36.059092, -118.913387], [39.383429, -76.498971], [25.798246, -80.25399], [25.602323, -80.35254300000003], [30.371737, -91.085228], [27.932422, -82.401904], [44.965442, -93.262199], [25.630294, -80.41471800000002], [34.0717, -117.79205], [40.75828, -73.95897], [33.786369, -117.879785], [32.830224, -96.826056], [45.710352, -110.446126], [32.11978, -110.90934], [40.72428, -111.92468], [37.651654, -122.09868], [25.656352, -80.411648], [39.75862100000001, -77.123138], [25.769187, -80.349205], [37.565868, -121.217093], [35.8077, -78.72383], [39.47162, -76.63965], [42.709292, -122.583314], [27.773662, -82.658675], [39.89862, -75.18039], [41.06521, -73.50635600000003], [28.56519, -81.18235], [38.836272, -77.007926], [38.82673, -104.81889], [38.764283, -121.25762], [25.807442, -80.291205], [40.6643, -73.99104], [34.243363, -119.192632], [33.169683, -117.21898], [34.208504, -81.380219], [28.0799, -81.97773000000002], [45.57926, -122.122124], [28.4717, -81.44388000000002], [33.974722, -118.230229], [34.935639, -82.007987], [33.994382, -117.869906], [44.72061, -123.05453], [33.64548, -117.17132], [45.02097, -93.18925], [33.704688, -117.642012], [43.210971, -121.780576], [35.894905, -84.728601], [39.79498, -86.121021], [44.78122800000001, -93.476024], [37.49154, -122.2196], [47.762472, -115.501651], [41.3945, -81.94869], [32.883721, -80.715018], [35.08445, -89.880034], [39.520017, -80.015973], [44.052725, -123.330278], [25.935489, -80.245134], [32.692845, -117.095032], [45.0785, -93.40183], [35.846523, -78.61200500000002], [29.98226, -81.45935], [39.461075, -76.299964], [29.130066, -81.124967], [34.010259999999995, -117.42905], [42.588089, -121.924483], [33.933391, -118.352512], [30.055576, -81.70808199999998], [39.977295, -75.200237], [32.279965999999995, -90.02198800000002], [46.357239, -94.244197], [45.03677, -93.06781], [32.822218, -96.863706], [34.321428000000004, -118.496744], [39.836668, -75.41639], [30.75052800000001, -85.26722], [41.886793, -87.64652099999998], [45.53001, -122.66523], [37.108943, -93.290502], [31.32982100000001, -92.417088], [35.39974, -83.124543], [26.114418, -80.311194], [43.368704, -124.294509], [43.618469, -124.181332], [36.866675, -79.87042], [45.52739, -122.60782], [32.865873, -96.899067], [37.51805, -77.44868000000002], [34.128635, -117.258961], [26.546002, -81.881672], [38.419812, -121.393775], [32.701159000000004, -96.835545], [38.725304, -121.289976], [40.70507, -111.90385], [37.77687, -122.23626000000002], [34.06711, -118.25433], [28.658602, -81.337846], [26.338012, -81.77895500000002], [38.30533, -76.658484], [39.826753, -104.928058], [34.13562, -117.97225], [42.84354, -87.9521], [40.064668, -76.441304], [38.74315, -90.38272], [32.801804, -117.155524], [38.24571, -122.6255], [35.344903, -119.034502], [33.487905, -86.824597], [37.7862, -122.39069], [28.005141, -82.308531], [35.314017, -119.035094], [39.73443, -105.015426], [36.031838, -95.904192], [30.41748, -91.05164], [37.270313, -121.946321], [33.38471, -111.96764], [37.78231, -105.17725], [39.032812, -76.94454499999998], [32.657721, -96.73713], [37.848232, -80.72720600000002], [42.461183, -79.318236], [29.938116, -95.433002], [41.554423, -72.846125], [41.68556, -87.66197], [33.901878, -118.286894], [34.256625, -118.435169], [38.857121, -76.852892], [35.879942, -86.482712], [32.362567, -86.21635699999999], [37.289716, -75.971726], [42.876881, -78.870152], [33.68742, -117.87192], [35.425847, -119.064466], [25.74824, -80.390815], [25.951263, -80.120922], [43.104843, -83.694795], [43.04777, -77.65729], [36.136422, -84.040312], [40.00811, -78.43842], [38.429919, -121.203575], [30.191513, -81.69936700000002], [38.764877, -120.753568], [40.977834, -123.641799], [40.36105, -76.54701899999998], [35.275397, -80.85485899999998], [37.347127, -121.84136200000002], [35.013472, -120.536835], [34.044639000000004, -84.305661], [33.934257, -118.028813], [39.88123, -75.66572], [34.095565, -117.819303], [38.787215, -90.493058], [42.315387, -122.983173], [38.86253, -76.99831], [28.486838, -81.418423], [34.913853, -118.923425], [42.145475, -73.94679599999998], [34.024828, -118.204374], [28.61833, -81.3859], [40.73423, -74.12366999999998], [42.924776, -83.622592], [43.619396, -116.35438700000002], [27.383028000000003, -82.446937], [34.054262, -118.004172], [33.90186, -118.28691], [35.26358, -118.634972], [34.165407, -79.76253100000002], [38.703702, -121.345921], [33.913391, -117.285134], [29.70358400000001, -95.591178], [33.864649, -118.326407], [34.07213, -118.09751], [36.07806, -86.765974], [25.806357, -80.321414], [44.786421, -93.412767], [41.30266, -74.132813], [30.387745, -87.278247], [40.16393, -74.10154], [36.69830200000001, -121.66928], [39.245849, -76.672713], [37.963921, -121.335466], [44.063389, -121.30721], [40.838536, -73.93007], [45.555134, -122.578603], [27.89438, -82.76231999999997], [36.088145, -86.701515], [42.48416, -120.28184], [28.613385, -81.47466], [39.005681, -77.082942], [38.56038, -121.48149], [34.139167, -112.145615], [40.701867, -73.486379], [42.323251, -121.39782], [30.335288, -97.72046], [34.278227, -119.300738], [34.98594, -80.36835], [43.508464, -116.393901], [34.00141, -117.834373], [41.84892, -72.64511999999998], [36.060315, -79.3952], [42.66534, -123.37707], [27.25549, -82.497545], [33.375069, -117.56089], [30.648589, -88.120986], [40.863075, -73.87167600000002], [42.001472, -73.90843000000002], [45.48743, -122.67858], [25.95118900000001, -80.18063199999997], [42.755128000000006, -84.773279], [35.551659, -82.817853], [35.07054, -81.7624], [33.858781, -78.657348], [39.807793, -75.29011899999998], [34.514013, -117.362699], [33.68662, -117.766], [26.548169, -81.805424], [40.732361, -83.901157], [39.17871, -84.54494], [28.211994, -82.739092], [25.448477, -80.541969], [37.292629, -121.809636], [44.932924, -93.420006], [28.7625, -81.36123], [30.42510900000001, -91.051708], [34.224488, -118.473282], [38.660997, -121.351267], [40.953782, -74.05113], [34.008154, -117.97977], [38.65632, -121.56198899999998], [47.54567, -122.33379], [35.059271, -80.988708], [28.68386, -81.48869], [34.037655, -118.348765], [46.839534, -113.835557], [32.610028, -83.74256700000002], [40.283313, -75.11945300000002], [38.496168, -121.433349], [36.21096, -119.259689], [32.729163, -97.29829], [29.828464, -95.3942], [34.558836, -118.561094], [28.425089, -81.404788], [26.199055, -80.148535], [35.885175, -78.842675], [40.026451, -111.76132], [45.784848, -108.482042], [34.040341, -118.376979], [42.349567, -121.40065], [48.74639000000001, -122.46552], [38.025727, -122.112237], [40.649703, -75.412173], [39.601309, -77.70746], [47.240939, -122.399932], [35.744553, -78.59268], [40.71331, -73.95411], [39.378143, -120.101755], [39.94315, -74.97957], [34.047332, -117.992937], [39.975491, -82.98342], [33.684137, -78.990223], [43.687016, -124.144699], [40.367639, -106.575972], [33.86098, -118.28513], [38.66276, -121.225656], [33.296331, -117.461818], [33.92925, -117.41667], [35.742595, -78.59191], [39.884772, -122.200242], [42.56359000000001, -88.97884], [30.532541, -87.242577], [34.023641, -118.244042], [34.331084000000004, -118.506335], [34.425251, -119.719402], [34.217659000000005, -80.59816], [44.9412, -93.45624], [37.681828, -120.89393], [32.130278000000004, -110.882874], [25.704676, -80.365211], [41.498993, -95.460669], [25.748801, -80.335788], [25.627626, -80.422882], [44.06517, -90.86166], [40.302711, -111.697431], [34.047913, -118.266725], [42.93767, -71.3836], [45.04393, -93.28476], [40.105301, -77.38512], [34.262659, -119.246428], [34.855721, -82.268186], [38.630367, -75.542548], [39.026716, -77.046477], [38.04221, -103.69275], [38.830159, -77.19403199999998], [33.789833, -118.207746], [33.61397, -111.916528], [33.371711, -111.89338], [44.88705, -93.33366], [41.17804, -73.17572], [44.96045, -122.9903], [35.86085900000001, -78.683075], [39.1172, -84.43929], [34.06847, -117.39153], [32.810782, -96.804242], [38.680668, -121.333462], [42.132989, -122.633829], [34.059428999999994, -118.001438], [42.04711500000001, -88.26776], [27.447754, -82.57080699999999], [42.033611, -71.92672900000002], [44.891374, -93.184711], [34.066489000000004, -117.234474], [37.50575900000001, -77.426518], [34.068963000000004, -118.044291], [35.08974, -82.04009], [30.317248, -86.13006700000004], [25.687938, -80.41644000000002], [32.517646, -93.709496], [37.504411, -122.470479], [26.548298, -81.871663], [34.01037, -117.42897], [34.12925300000001, -117.942407], [34.181568, -118.88748], [30.488444, -86.260024], [30.277094, -97.637689], [39.057736, -77.072063], [33.43608, -86.73743], [32.953777, -96.733125], [44.965442, -93.265804], [35.864299, -84.420629], [40.35737, -75.95002], [40.727744, -73.372275], [47.52505900000001, -122.66118], [34.025481, -118.205723], [33.417984000000004, -86.812499], [44.984718, -93.288199], [40.764912, -111.991647], [29.777348, -95.89601], [35.358853, -117.977567], [45.559337, -123.590784], [32.457704, -80.733553], [29.980648, -82.579411], [39.329226, -120.292867], [34.15573, -118.42777], [32.86922, -96.89868], [29.05188900000001, -82.202286], [27.960592, -82.74449399999997], [25.868599, -80.327986], [34.004131, -117.405204], [29.70360800000001, -95.588886], [41.82172, -71.42016], [25.692504, -80.446242], [38.01876, -121.94717], [37.8432, -122.48593], [45.505532, -122.67983], [43.637718, -95.633587], [33.343427, -81.241162], [34.02078, -117.8147], [29.067062, -82.177734], [33.550032, -84.286891], [34.053761, -118.233398], [34.055107, -118.003952], [38.84247, -77.43105], [38.794381, -77.013184], [33.909945, -84.22242299999998], [36.734455, -121.656326], [34.971338, -120.425401], [33.835947999999995, -117.941554], [26.10608, -80.27864], [40.062341, -74.974362], [35.403101, -119.045241], [29.956417, -90.066171], [34.84836, -80.85339599999998], [38.643411, -121.43359], [32.973357, -80.023143], [34.0368, -118.02375], [43.054078, -76.15434], [46.10071, -85.53822], [25.94121, -80.18975], [39.787246, -84.242793], [38.88563, -77.15635999999998], [34.136643, -117.537019], [32.70834, -96.791171], [36.52478, -119.280095], [38.66937100000001, -90.448921], [29.934067, -95.4236], [40.236532, -76.799726], [37.019701, -76.32808], [39.543606, -77.425579], [43.12636, -77.56576], [41.06567, -81.43251], [33.898614, -117.476571], [37.575832, -122.047166], [36.77440900000001, -119.78522], [35.078082, -85.187848], [34.221847, -119.105259], [38.900038, -119.963523], [35.389261, -119.023397], [25.582083, -80.36600899999998], [36.16241, -86.778076], [32.723025, -117.159115], [47.813477, -110.750792], [25.903438, -80.292147], [32.790112, -96.595846], [34.143201, -80.883759], [33.997246999999994, -118.172236], [39.49576, -76.70852], [32.117764, -110.772778], [36.045218, -86.715209], [41.137947, -111.871883], [34.054275, -117.299309], [30.302929, -97.701052], [35.319511, -120.697018], [42.35306, -87.96361999999998], [40.047807, -76.360883], [39.097921, -75.959329], [37.999885, -78.826942], [40.02245, -76.1929], [29.660609, -95.508568], [39.12762100000001, -121.555565], [34.186606, -118.530832], [36.293831, -86.696434], [25.731967, -80.384599], [40.76095, -73.9564], [28.41162000000001, -80.829237], [33.976598, -117.371688], [28.258681, -82.175708], [34.06357, -117.81771], [25.96371, -80.165722], [39.310373, -76.50189499999998], [34.713401, -82.426919], [39.841419, -121.621071], [40.61006, -75.53189], [33.25652, -84.09179], [25.785266, -80.249923], [41.72366, -88.00811], [46.74070800000001, -92.157426], [33.91137, -118.1677], [33.982358000000005, -118.286454], [41.631357, -93.697877], [44.6027, -92.772423], [39.16516, -104.85307], [28.577486, -81.476862], [41.939417, -87.901321], [26.528094, -81.867521], [30.26007700000001, -81.556012], [33.127720000000004, -117.11151], [26.549494, -81.83918], [32.694357000000004, -117.129524], [40.712982, -111.817034], [38.932066, -94.644155], [44.30134, -121.17196], [38.160532, -121.39356200000002], [27.82099, -82.72842], [25.923781, -80.15441899999998], [38.010731, -121.863151], [36.091929, -86.704854], [33.96575900000001, -118.164984], [34.03853, -118.22796], [25.925863, -80.167362], [35.55088, -82.60908], [43.194769, -77.642349], [39.34574, -76.74505], [35.30505, -80.85837], [39.971641, -75.562731], [37.32558, -122.205854], [35.838295, -78.674359], [34.136356, -117.462526], [45.34038, -122.7692], [35.89933, -84.172939], [35.118485, -82.014556], [37.263947, -93.314598], [40.4335, -104.99224], [33.856782, -118.028523], [33.017119, -117.120546], [43.452855, -124.226898], [34.718911, -118.112334], [35.83872, -78.675063], [35.027745, -80.964978], [45.210716, -93.584146], [47.92203, -122.21619], [28.116441, -82.372087], [29.42056, -98.591297], [35.005265, -80.887447], [44.93481, -123.226985], [33.06176, -117.2911], [34.660411, -118.149655], [36.220031, -86.774774], [33.774649, -84.57328199999998], [27.835952, -82.699834], [30.41721, -89.18778], [34.8761, -82.36461], [33.77344, -117.48507], [33.253008, -117.164231], [26.78788, -80.09911], [28.110487, -82.73973000000002], [34.014459, -118.161183], [47.43027, -122.27328], [35.76658, -78.46999], [28.37162, -81.50972], [36.038907, -86.647902], [33.968247, -118.081733], [33.672527, -117.832177], [45.251107, -123.848114], [44.110938, -88.5436], [33.122415999999994, -80.279449], [30.62892, -88.11402], [42.951017, -78.60667600000002], [33.148183, -80.061265], [37.86112, -112.82574], [34.048815999999995, -118.166718], [47.745894, -95.000013], [35.825296, -78.620232], [45.540997, -122.679296], [33.491363, -112.155889], [36.051456, -95.872723], [25.921103, -80.191582], [32.591489, -93.332945], [33.870315000000005, -117.703571], [37.695457, -122.073794], [43.015242, -87.91599699999998], [35.24756, -111.972656], [28.597538, -81.298907], [33.657852, -117.777778], [37.063713, -122.003117], [26.1071, -80.16878], [35.789459, -78.676076], [30.477381, -86.574101], [39.83215, -83.002768], [38.829631, -120.982988], [34.145423, -117.291822], [40.16067, -104.991307], [34.273599, -118.591028], [40.493544, -74.297609], [42.68239000000001, -73.84165], [33.803384, -117.902677], [34.598303, -80.88601700000002], [34.135326, -117.974463], [35.33150999999999, -97.48988], [35.501329, -118.693091], [38.960802, -77.036325], [30.544277, -91.136709], [25.899684, -80.20966800000002], [35.817048, -78.398437], [34.45956, -118.61561], [37.932715, -122.060323], [36.909451, -76.130399], [30.327082, -81.635273], [40.747733, -73.737256], [25.89007, -80.190574], [43.15592, -88.05826], [38.253289, -122.392019], [35.54407, -82.604099], [44.95259, -93.08794], [34.15508, -118.46842], [33.643347, -112.410657], [37.713868, -118.95506], [39.431487, -77.996309], [40.48405, -74.302092], [28.37177, -81.29812], [41.882916, -87.92062], [47.84466, -122.25858999999998], [29.865665000000003, -95.488652], [25.682907, -80.41640799999998], [25.716156, -80.43126], [37.992363, -120.477946], [38.838958, -77.415724], [42.518293, -83.676761], [30.418907, -91.0715], [25.812, -80.321552], [37.70248400000001, -121.740355], [40.198804, -104.979952], [27.332637, -82.530978], [33.913391, -117.285134], [29.645452, -82.488384], [34.894001, -82.130689], [30.643176, -87.147689], [39.415624, -77.434719], [28.472403000000003, -81.411062], [30.603714, -87.134733], [36.823336, -121.779894], [28.0729, -82.34992], [39.28124, -74.57921800000003], [35.033836, -85.15355699999998], [42.37853, -87.93947], [27.91971, -82.60977], [38.333318, -75.094236], [39.286181, -120.699856], [40.60814, -79.94491], [30.745421, -85.461863], [41.350996, -74.26184], [44.973231, -93.088477], [34.036390000000004, -117.3222], [29.78502000000001, -95.60869], [40.594271, -73.908608], [30.413608, -91.136693], [41.072606, -73.718249], [32.66539, -96.90848], [39.928452, -74.956236], [47.276115, -122.312351], [39.283962, -76.547666], [42.36147, -83.07294], [40.356321, -76.95613], [29.815918, -81.374553], [35.346465, -80.759608], [38.68408400000001, -121.363766], [29.93764, -95.47395], [29.449854, -82.222451], [32.822717, -97.393208], [34.15646, -118.2513], [37.64105, -122.09131], [34.26603, -118.46], [41.23458, -77.04415999999998], [33.766090000000005, -84.49851], [26.00223, -80.1671], [34.0807, -84.53728000000002], [30.44937, -91.18584], [33.498054, -117.658499], [37.45574600000001, -120.803327], [30.383904, -97.69099], [40.88916, -73.81533], [32.93459, -80.04706999999998], [44.9161, -124.00657], [38.596377, -121.443656], [40.24269, -74.08646], [41.106712, -112.00713600000002], [29.72523, -95.46022], [34.021114000000004, -117.338164], [34.144231, -118.702737], [44.863532, -93.059584], [39.016517, -94.131535], [40.697117, -74.12441899999997], [36.156542, -86.775863], [40.207189, -75.507481], [28.331482, -81.228735], [41.999069, -121.5992], [33.628549, -117.690668], [39.051288, -121.625254], [39.152773, -76.645656], [40.678521, -75.34133], [45.53305, -122.56447], [25.863876, -80.31479399999998], [32.23565, -110.98449], [33.964823, -118.120375], [33.060344, -86.81217600000002], [41.546938, -72.78308299999998], [30.377023, -81.672365], [42.937131, -85.56591800000002], [34.11208, -84.22813000000002], [34.148651, -118.052548], [39.332481, -76.487599], [44.384948, -123.061455], [34.645567, -82.458652], [37.87411, -79.31155799999998], [41.301029, -72.924617], [32.695312, -97.254913], [28.079885, -81.977695], [45.88865300000001, -123.957709], [33.14586, -117.193413], [30.168149, -97.785908], [42.259096, -88.157619], [40.69658, -112.016718], [27.26762, -82.51209300000002], [32.29526, -95.301696], [27.260947, -82.539893], [25.92719, -80.155999], [37.537161, -77.278336], [39.280009, -77.31491199999998], [29.934216, -90.037203], [39.195478, -74.843751], [29.613465, -82.383438], [33.987461, -89.869033], [35.343353, -118.994196], [35.44169, -119.550272], [40.754908, -111.88823], [25.760888, -80.481213], [39.72538, -105.02993], [29.689290000000003, -95.562218], [38.567524, -77.160618], [34.077182, -118.21546399999998], [43.672293, -120.234621], [32.235479999999995, -110.82387], [25.74753, -80.337365], [40.616247, -77.567534], [36.861544, -76.35048499999998], [34.560359000000005, -92.613383], [45.7992, -119.39003], [28.558455, -81.31088100000002], [32.846758, -96.637147], [44.888692, -93.615963], [34.50091, -82.99128], [28.401504, -81.404707], [40.206496, -75.26787], [39.056322, -77.15468299999998], [40.378786, -74.09106700000002], [41.030679, -73.746175], [32.780577, -96.737676], [35.074638, -85.16827099999998], [33.93531, -118.083987], [25.93244, -80.203611], [30.441023, -97.669171], [32.846753, -96.773307], [40.66678, -73.83608000000002], [48.057881, -103.661133], [25.702162, -80.336089], [43.618303, -116.393563], [26.019519, -80.2486], [41.052228, -73.80886600000002], [36.984639, -120.086542], [26.22987, -81.60667], [34.184676, -117.433682], [37.845314, -122.227309], [45.507258, -122.718953], [41.005408, -73.92036], [40.77335, -73.83064], [37.66361, -122.10584], [34.822727, -82.288677], [37.91406, -122.06648], [33.692558, -117.337003], [33.72449, -84.39401], [28.151556, -82.46141800000002], [37.989412, -122.128644], [32.676016, -96.946439], [28.546840000000003, -81.54781], [46.23506, -123.87196000000002], [40.70036500000001, -73.815304], [46.603045, -100.903013], [30.443515, -91.138497], [41.80161, -88.16736999999998], [44.975066, -93.288036], [28.12630900000001, -80.97614300000002], [45.382815, -120.138276], [30.423001, -91.139099], [42.72393, -73.840091], [40.88616500000001, -73.806427], [32.776827000000004, -117.067926], [38.539564, -76.984308], [47.872464, -94.268333], [35.328823, -118.80406], [29.296138, -82.203841], [39.9599, -75.17539000000002], [40.739078000000006, -73.847569], [37.644513, -120.61311299999998], [45.532311, -122.575632], [37.831716, -122.480153], [32.402076, -93.795092], [33.97564000000001, -118.23492], [33.447813000000004, -117.635757], [30.288533, -98.049946], [33.821757, -78.905142], [25.890526, -80.18040500000002], [42.965265, -83.809343], [34.908939000000004, -91.196554], [32.272006, -111.010226], [33.109684, -80.644019], [32.81241, -79.95269], [39.441207, -77.493706], [32.816001, -117.158986], [45.149943, -93.176088], [33.47598, -112.289218], [45.50867, -122.73622], [39.78322100000001, -86.162327], [27.80645100000001, -82.691863], [35.022329, -82.02703100000002], [30.675888, -88.12716400000002], [34.208395, -80.684264], [29.013085, -80.977873], [40.841905, -74.164331], [41.195516, -73.12763000000002], [32.759741, -97.063291], [32.329491, -90.161651], [27.462368, -82.590089], [37.68949, -122.103998], [42.88795, -78.76771], [36.242925, -86.82144], [25.843458, -80.322576], [31.729592, -106.313698], [35.28867, -80.7298], [32.792526, -96.797736], [34.136162, -117.335476], [45.53186, -122.63338], [38.880729, -77.002411], [35.45888, -97.61884], [34.04438, -117.55004], [39.27234, -76.6299], [41.7026, -72.80481999999998], [38.60405, -121.50665], [37.473057, -122.21456299999998], [34.891797, -82.32847199999998], [33.711344, -84.21435699999998], [30.334638, -87.13292], [30.44874, -87.21903], [26.652663, -81.808432], [32.760490000000004, -117.162805], [34.06644, -117.80082], [28.113076, -82.717865], [33.873499, -118.009375], [35.240929, -80.850897], [35.805964, -118.662376], [38.539436, -90.487056], [39.12715, -84.50844000000002], [39.82725, -75.43456], [34.015828000000006, -118.054994], [34.484649, -82.660351], [44.389797, -93.292347], [45.667561, -94.816682], [45.907674, -92.967105], [33.644872, -117.375378], [38.896581, -76.95748499999998], [30.431179, -91.174523], [34.440202, -118.60343799999998], [41.205431, -111.994115]],\n",
              "                {&quot;blur&quot;: 15, &quot;maxZoom&quot;: 18, &quot;minOpacity&quot;: 0.5, &quot;radius&quot;: 25}\n",
              "            ).addTo(map_7ee3a3ced9ab75fa1f3cc20dcac320b3);\n",
              "        \n",
              "&lt;/script&gt;\n",
              "&lt;/html&gt;\" style=\"position:absolute;width:100%;height:100%;left:0;top:0;border:none !important;\" allowfullscreen webkitallowfullscreen mozallowfullscreen></iframe></div></div>"
            ],
            "text/plain": [
              "<folium.folium.Map at 0x7f8bf0c48eb0>"
            ]
          },
          "execution_count": 46,
          "metadata": {},
          "output_type": "execute_result"
        }
      ],
      "source": [
        "map = folium.Map()\n",
        "HeatMap(pairs).add_to(map)\n",
        "map"
      ]
    },
    {
      "cell_type": "code",
      "execution_count": null,
      "id": "6e9e8395",
      "metadata": {
        "id": "6e9e8395"
      },
      "outputs": [],
      "source": []
    },
    {
      "cell_type": "markdown",
      "id": "e5f71fac",
      "metadata": {
        "id": "e5f71fac"
      },
      "source": [
        "#### Questions\n",
        "1. Are there more accidents in warmer or colder areas?\n",
        "2. Which 5 states have the highest number of accidents? How about per capita?\n",
        "3. Among the top 100 cities with highest acidents, which states do they belong to?\n",
        "4. Why is New York not present, despite beig the most populous city?\n",
        "5. Which states does the top 100 cities with number of accidents belong to?\n",
        "6. Which time of the day has maximum accidents? Similarly which days or months of the year have accidents more frequently?\n",
        "7. What is the trend of the accidents over the years in this data?\n",
        "8. When is the accidents per unit of the traffic the highest?"
      ]
    },
    {
      "cell_type": "markdown",
      "id": "d6d05446",
      "metadata": {
        "id": "d6d05446"
      },
      "source": [
        "#### Insights\n",
        "1. New York is not present in the data despite being the most populous city\n",
        "2. Only 4% of cities have more than 1000 yearly accidents (less than 5%)\n",
        "3. Number of accidents per city decreases exponentially \n",
        "4. Around 1100 cities have just reported one accident\n",
        "5. A high percentage of accidents occur between 6 - 10 am (may be because people are in a rush to get to work) and the next highest percentage of accidents occur between 3 to 6 pm \n",
        "6. The distribution of accidents by hour is different on weekends than on weekdays. On Sundays, peak occurs from 12:30 to 4:30 pm\n",
        "7. Most accidents occur during the last quarter of the year\n",
        "8. The occurrence of accidents is more frequent during the last quarter of the year\n",
        "9. The occurrence of accidents have increased over the years\n",
        "\n"
      ]
    },
    {
      "cell_type": "code",
      "execution_count": null,
      "id": "87757d32",
      "metadata": {
        "id": "87757d32"
      },
      "outputs": [],
      "source": []
    }
  ],
  "metadata": {
    "kernelspec": {
      "display_name": "Python 3",
      "language": "python",
      "name": "python3"
    },
    "language_info": {
      "codemirror_mode": {
        "name": "ipython",
        "version": 3
      },
      "file_extension": ".py",
      "mimetype": "text/x-python",
      "name": "python",
      "nbconvert_exporter": "python",
      "pygments_lexer": "ipython3",
      "version": "3.8.8"
    },
    "colab": {
      "provenance": []
    }
  },
  "nbformat": 4,
  "nbformat_minor": 5
}